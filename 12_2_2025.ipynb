{
  "nbformat": 4,
  "nbformat_minor": 0,
  "metadata": {
    "colab": {
      "provenance": [],
      "gpuType": "T4",
      "authorship_tag": "ABX9TyP0JTDkI/fWAWsYKAdf4xo7",
      "include_colab_link": true
    },
    "kernelspec": {
      "name": "python3",
      "display_name": "Python 3"
    },
    "language_info": {
      "name": "python"
    },
    "accelerator": "GPU"
  },
  "cells": [
    {
      "cell_type": "markdown",
      "metadata": {
        "id": "view-in-github",
        "colab_type": "text"
      },
      "source": [
        "<a href=\"https://colab.research.google.com/github/sheshma0908/LMS-/blob/main/12_2_2025.ipynb\" target=\"_parent\"><img src=\"https://colab.research.google.com/assets/colab-badge.svg\" alt=\"Open In Colab\"/></a>"
      ]
    },
    {
      "cell_type": "code",
      "execution_count": 1,
      "metadata": {
        "id": "NA46n5QTk896"
      },
      "outputs": [],
      "source": [
        "import pandas as pd\n",
        "import numpy as np\n",
        "import matplotlib.pyplot as plt\n",
        "import seaborn as sns"
      ]
    },
    {
      "cell_type": "code",
      "source": [
        "import pandas as pd\n",
        "data = pd.read_csv(\"/var/fake_news.csv\", on_bad_lines='skip', quoting=3)\n",
        "data.head()"
      ],
      "metadata": {
        "colab": {
          "base_uri": "https://localhost:8080/",
          "height": 1000
        },
        "id": "lOL-LU4CmKMP",
        "outputId": "e3d969b1-1b9c-470b-b203-ae89382e3bb4"
      },
      "execution_count": 2,
      "outputs": [
        {
          "output_type": "execute_result",
          "data": {
            "text/plain": [
              "                                                                                                                                                  id  \\\n",
              "0                                              House Dem Aide: We Didn’t Even See Comey’s Lett...                                      Darrell Lucus   \n",
              "With apologies to Keith Olbermann               there is no doubt who the Worst Person in The ...   it looks like we also know who the second-wor...   \n",
              "As we now know                                  Comey notified the Republican chairmen and Dem...                                          Judiciary   \n",
              "— Jason Chaffetz (@jasoninthehouse) October 28  2016                                                                                             NaN   \n",
              "Of course                                       we now know that this was not the case . Comey...   and possibly an entire term’s worth of them. ...   \n",
              "\n",
              "                                                                                                                                               title  \\\n",
              "0                                              House Dem Aide: We Didn’t Even See Comey’s Lett...  \"House Dem Aide: We Didn’t Even See Comey’s Le...   \n",
              "With apologies to Keith Olbermann               there is no doubt who the Worst Person in The ...   the ranking Democrats on the relevant committ...   \n",
              "As we now know                                  Comey notified the Republican chairmen and Dem...   and Oversight committees that his agency was ...   \n",
              "— Jason Chaffetz (@jasoninthehouse) October 28  2016                                                                                             NaN   \n",
              "Of course                                       we now know that this was not the case . Comey...                                                NaN   \n",
              "\n",
              "                                                                                                                                              author  \\\n",
              "0                                              House Dem Aide: We Didn’t Even See Comey’s Lett...   2016 Subscribe Jason Chaffetz on the stump in...   \n",
              "With apologies to Keith Olbermann               there is no doubt who the Worst Person in The ...                                                NaN   \n",
              "As we now know                                  Comey notified the Republican chairmen and Dem...   Oversight Committee Chairman Jason Chaffetz s...   \n",
              "— Jason Chaffetz (@jasoninthehouse) October 28  2016                                                                                             NaN   \n",
              "Of course                                       we now know that this was not the case . Comey...                                                NaN   \n",
              "\n",
              "                                                                                                                                                text  \\\n",
              "0                                              House Dem Aide: We Didn’t Even See Comey’s Lett...               Utah ( image courtesy Michael Jolley   \n",
              "With apologies to Keith Olbermann               there is no doubt who the Worst Person in The ...                                                NaN   \n",
              "As we now know                                  Comey notified the Republican chairmen and Dem...   \"\"The FBI has learned of the existence of ema...   \n",
              "— Jason Chaffetz (@jasoninthehouse) October 28  2016                                                                                             NaN   \n",
              "Of course                                       we now know that this was not the case . Comey...                                                NaN   \n",
              "\n",
              "                                                                                                                                              label  \n",
              "0                                              House Dem Aide: We Didn’t Even See Comey’s Lett...   available under a Creative Commons-BY license)   \n",
              "With apologies to Keith Olbermann               there is no doubt who the Worst Person in The ...                                               NaN  \n",
              "As we now know                                  Comey notified the Republican chairmen and Dem...                                               NaN  \n",
              "— Jason Chaffetz (@jasoninthehouse) October 28  2016                                                                                            NaN  \n",
              "Of course                                       we now know that this was not the case . Comey...                                               NaN  "
            ],
            "text/html": [
              "\n",
              "  <div id=\"df-57156912-801b-4feb-ba96-02d0e2d624a1\" class=\"colab-df-container\">\n",
              "    <div>\n",
              "<style scoped>\n",
              "    .dataframe tbody tr th:only-of-type {\n",
              "        vertical-align: middle;\n",
              "    }\n",
              "\n",
              "    .dataframe tbody tr th {\n",
              "        vertical-align: top;\n",
              "    }\n",
              "\n",
              "    .dataframe thead th {\n",
              "        text-align: right;\n",
              "    }\n",
              "</style>\n",
              "<table border=\"1\" class=\"dataframe\">\n",
              "  <thead>\n",
              "    <tr style=\"text-align: right;\">\n",
              "      <th></th>\n",
              "      <th></th>\n",
              "      <th>id</th>\n",
              "      <th>title</th>\n",
              "      <th>author</th>\n",
              "      <th>text</th>\n",
              "      <th>label</th>\n",
              "    </tr>\n",
              "  </thead>\n",
              "  <tbody>\n",
              "    <tr>\n",
              "      <th>0</th>\n",
              "      <th>House Dem Aide: We Didn’t Even See Comey’s Letter Until Jason Chaffetz Tweeted It</th>\n",
              "      <td>Darrell Lucus</td>\n",
              "      <td>\"House Dem Aide: We Didn’t Even See Comey’s Le...</td>\n",
              "      <td>2016 Subscribe Jason Chaffetz on the stump in...</td>\n",
              "      <td>Utah ( image courtesy Michael Jolley</td>\n",
              "      <td>available under a Creative Commons-BY license)</td>\n",
              "    </tr>\n",
              "    <tr>\n",
              "      <th>With apologies to Keith Olbermann</th>\n",
              "      <th>there is no doubt who the Worst Person in The World is this week–FBI Director James Comey. But according to a House Democratic aide</th>\n",
              "      <td>it looks like we also know who the second-wor...</td>\n",
              "      <td>the ranking Democrats on the relevant committ...</td>\n",
              "      <td>NaN</td>\n",
              "      <td>NaN</td>\n",
              "      <td>NaN</td>\n",
              "    </tr>\n",
              "    <tr>\n",
              "      <th>As we now know</th>\n",
              "      <th>Comey notified the Republican chairmen and Democratic ranking members of the House Intelligence</th>\n",
              "      <td>Judiciary</td>\n",
              "      <td>and Oversight committees that his agency was ...</td>\n",
              "      <td>Oversight Committee Chairman Jason Chaffetz s...</td>\n",
              "      <td>\"\"The FBI has learned of the existence of ema...</td>\n",
              "      <td>NaN</td>\n",
              "    </tr>\n",
              "    <tr>\n",
              "      <th>— Jason Chaffetz (@jasoninthehouse) October 28</th>\n",
              "      <th>2016</th>\n",
              "      <td>NaN</td>\n",
              "      <td>NaN</td>\n",
              "      <td>NaN</td>\n",
              "      <td>NaN</td>\n",
              "      <td>NaN</td>\n",
              "    </tr>\n",
              "    <tr>\n",
              "      <th>Of course</th>\n",
              "      <th>we now know that this was not the case . Comey was actually saying that it was reviewing the emails in light of “an unrelated case”–which we now know to be Anthony Weiner’s sexting with a teenager. But apparently such little things as facts didn’t matter to Chaffetz. The Utah Republican had already vowed to initiate a raft of investigations if Hillary wins–at least two years’ worth</th>\n",
              "      <td>and possibly an entire term’s worth of them. ...</td>\n",
              "      <td>NaN</td>\n",
              "      <td>NaN</td>\n",
              "      <td>NaN</td>\n",
              "      <td>NaN</td>\n",
              "    </tr>\n",
              "  </tbody>\n",
              "</table>\n",
              "</div>\n",
              "    <div class=\"colab-df-buttons\">\n",
              "\n",
              "  <div class=\"colab-df-container\">\n",
              "    <button class=\"colab-df-convert\" onclick=\"convertToInteractive('df-57156912-801b-4feb-ba96-02d0e2d624a1')\"\n",
              "            title=\"Convert this dataframe to an interactive table.\"\n",
              "            style=\"display:none;\">\n",
              "\n",
              "  <svg xmlns=\"http://www.w3.org/2000/svg\" height=\"24px\" viewBox=\"0 -960 960 960\">\n",
              "    <path d=\"M120-120v-720h720v720H120Zm60-500h600v-160H180v160Zm220 220h160v-160H400v160Zm0 220h160v-160H400v160ZM180-400h160v-160H180v160Zm440 0h160v-160H620v160ZM180-180h160v-160H180v160Zm440 0h160v-160H620v160Z\"/>\n",
              "  </svg>\n",
              "    </button>\n",
              "\n",
              "  <style>\n",
              "    .colab-df-container {\n",
              "      display:flex;\n",
              "      gap: 12px;\n",
              "    }\n",
              "\n",
              "    .colab-df-convert {\n",
              "      background-color: #E8F0FE;\n",
              "      border: none;\n",
              "      border-radius: 50%;\n",
              "      cursor: pointer;\n",
              "      display: none;\n",
              "      fill: #1967D2;\n",
              "      height: 32px;\n",
              "      padding: 0 0 0 0;\n",
              "      width: 32px;\n",
              "    }\n",
              "\n",
              "    .colab-df-convert:hover {\n",
              "      background-color: #E2EBFA;\n",
              "      box-shadow: 0px 1px 2px rgba(60, 64, 67, 0.3), 0px 1px 3px 1px rgba(60, 64, 67, 0.15);\n",
              "      fill: #174EA6;\n",
              "    }\n",
              "\n",
              "    .colab-df-buttons div {\n",
              "      margin-bottom: 4px;\n",
              "    }\n",
              "\n",
              "    [theme=dark] .colab-df-convert {\n",
              "      background-color: #3B4455;\n",
              "      fill: #D2E3FC;\n",
              "    }\n",
              "\n",
              "    [theme=dark] .colab-df-convert:hover {\n",
              "      background-color: #434B5C;\n",
              "      box-shadow: 0px 1px 3px 1px rgba(0, 0, 0, 0.15);\n",
              "      filter: drop-shadow(0px 1px 2px rgba(0, 0, 0, 0.3));\n",
              "      fill: #FFFFFF;\n",
              "    }\n",
              "  </style>\n",
              "\n",
              "    <script>\n",
              "      const buttonEl =\n",
              "        document.querySelector('#df-57156912-801b-4feb-ba96-02d0e2d624a1 button.colab-df-convert');\n",
              "      buttonEl.style.display =\n",
              "        google.colab.kernel.accessAllowed ? 'block' : 'none';\n",
              "\n",
              "      async function convertToInteractive(key) {\n",
              "        const element = document.querySelector('#df-57156912-801b-4feb-ba96-02d0e2d624a1');\n",
              "        const dataTable =\n",
              "          await google.colab.kernel.invokeFunction('convertToInteractive',\n",
              "                                                    [key], {});\n",
              "        if (!dataTable) return;\n",
              "\n",
              "        const docLinkHtml = 'Like what you see? Visit the ' +\n",
              "          '<a target=\"_blank\" href=https://colab.research.google.com/notebooks/data_table.ipynb>data table notebook</a>'\n",
              "          + ' to learn more about interactive tables.';\n",
              "        element.innerHTML = '';\n",
              "        dataTable['output_type'] = 'display_data';\n",
              "        await google.colab.output.renderOutput(dataTable, element);\n",
              "        const docLink = document.createElement('div');\n",
              "        docLink.innerHTML = docLinkHtml;\n",
              "        element.appendChild(docLink);\n",
              "      }\n",
              "    </script>\n",
              "  </div>\n",
              "\n",
              "\n",
              "<div id=\"df-7b694c28-483e-4c82-bcf1-d5097a74b1d1\">\n",
              "  <button class=\"colab-df-quickchart\" onclick=\"quickchart('df-7b694c28-483e-4c82-bcf1-d5097a74b1d1')\"\n",
              "            title=\"Suggest charts\"\n",
              "            style=\"display:none;\">\n",
              "\n",
              "<svg xmlns=\"http://www.w3.org/2000/svg\" height=\"24px\"viewBox=\"0 0 24 24\"\n",
              "     width=\"24px\">\n",
              "    <g>\n",
              "        <path d=\"M19 3H5c-1.1 0-2 .9-2 2v14c0 1.1.9 2 2 2h14c1.1 0 2-.9 2-2V5c0-1.1-.9-2-2-2zM9 17H7v-7h2v7zm4 0h-2V7h2v10zm4 0h-2v-4h2v4z\"/>\n",
              "    </g>\n",
              "</svg>\n",
              "  </button>\n",
              "\n",
              "<style>\n",
              "  .colab-df-quickchart {\n",
              "      --bg-color: #E8F0FE;\n",
              "      --fill-color: #1967D2;\n",
              "      --hover-bg-color: #E2EBFA;\n",
              "      --hover-fill-color: #174EA6;\n",
              "      --disabled-fill-color: #AAA;\n",
              "      --disabled-bg-color: #DDD;\n",
              "  }\n",
              "\n",
              "  [theme=dark] .colab-df-quickchart {\n",
              "      --bg-color: #3B4455;\n",
              "      --fill-color: #D2E3FC;\n",
              "      --hover-bg-color: #434B5C;\n",
              "      --hover-fill-color: #FFFFFF;\n",
              "      --disabled-bg-color: #3B4455;\n",
              "      --disabled-fill-color: #666;\n",
              "  }\n",
              "\n",
              "  .colab-df-quickchart {\n",
              "    background-color: var(--bg-color);\n",
              "    border: none;\n",
              "    border-radius: 50%;\n",
              "    cursor: pointer;\n",
              "    display: none;\n",
              "    fill: var(--fill-color);\n",
              "    height: 32px;\n",
              "    padding: 0;\n",
              "    width: 32px;\n",
              "  }\n",
              "\n",
              "  .colab-df-quickchart:hover {\n",
              "    background-color: var(--hover-bg-color);\n",
              "    box-shadow: 0 1px 2px rgba(60, 64, 67, 0.3), 0 1px 3px 1px rgba(60, 64, 67, 0.15);\n",
              "    fill: var(--button-hover-fill-color);\n",
              "  }\n",
              "\n",
              "  .colab-df-quickchart-complete:disabled,\n",
              "  .colab-df-quickchart-complete:disabled:hover {\n",
              "    background-color: var(--disabled-bg-color);\n",
              "    fill: var(--disabled-fill-color);\n",
              "    box-shadow: none;\n",
              "  }\n",
              "\n",
              "  .colab-df-spinner {\n",
              "    border: 2px solid var(--fill-color);\n",
              "    border-color: transparent;\n",
              "    border-bottom-color: var(--fill-color);\n",
              "    animation:\n",
              "      spin 1s steps(1) infinite;\n",
              "  }\n",
              "\n",
              "  @keyframes spin {\n",
              "    0% {\n",
              "      border-color: transparent;\n",
              "      border-bottom-color: var(--fill-color);\n",
              "      border-left-color: var(--fill-color);\n",
              "    }\n",
              "    20% {\n",
              "      border-color: transparent;\n",
              "      border-left-color: var(--fill-color);\n",
              "      border-top-color: var(--fill-color);\n",
              "    }\n",
              "    30% {\n",
              "      border-color: transparent;\n",
              "      border-left-color: var(--fill-color);\n",
              "      border-top-color: var(--fill-color);\n",
              "      border-right-color: var(--fill-color);\n",
              "    }\n",
              "    40% {\n",
              "      border-color: transparent;\n",
              "      border-right-color: var(--fill-color);\n",
              "      border-top-color: var(--fill-color);\n",
              "    }\n",
              "    60% {\n",
              "      border-color: transparent;\n",
              "      border-right-color: var(--fill-color);\n",
              "    }\n",
              "    80% {\n",
              "      border-color: transparent;\n",
              "      border-right-color: var(--fill-color);\n",
              "      border-bottom-color: var(--fill-color);\n",
              "    }\n",
              "    90% {\n",
              "      border-color: transparent;\n",
              "      border-bottom-color: var(--fill-color);\n",
              "    }\n",
              "  }\n",
              "</style>\n",
              "\n",
              "  <script>\n",
              "    async function quickchart(key) {\n",
              "      const quickchartButtonEl =\n",
              "        document.querySelector('#' + key + ' button');\n",
              "      quickchartButtonEl.disabled = true;  // To prevent multiple clicks.\n",
              "      quickchartButtonEl.classList.add('colab-df-spinner');\n",
              "      try {\n",
              "        const charts = await google.colab.kernel.invokeFunction(\n",
              "            'suggestCharts', [key], {});\n",
              "      } catch (error) {\n",
              "        console.error('Error during call to suggestCharts:', error);\n",
              "      }\n",
              "      quickchartButtonEl.classList.remove('colab-df-spinner');\n",
              "      quickchartButtonEl.classList.add('colab-df-quickchart-complete');\n",
              "    }\n",
              "    (() => {\n",
              "      let quickchartButtonEl =\n",
              "        document.querySelector('#df-7b694c28-483e-4c82-bcf1-d5097a74b1d1 button');\n",
              "      quickchartButtonEl.style.display =\n",
              "        google.colab.kernel.accessAllowed ? 'block' : 'none';\n",
              "    })();\n",
              "  </script>\n",
              "</div>\n",
              "\n",
              "    </div>\n",
              "  </div>\n"
            ],
            "application/vnd.google.colaboratory.intrinsic+json": {
              "type": "dataframe",
              "variable_name": "data",
              "summary": "{\n  \"name\": \"data\",\n  \"rows\": 36684,\n  \"fields\": [\n    {\n      \"column\": \"id\",\n      \"properties\": {\n        \"dtype\": \"category\",\n        \"num_unique_values\": 15500,\n        \"samples\": [\n          \"digangi.s\",\n          \" has begun singing the beautiful rendition of the Jewish prayer over loudspeakers\",\n          \" but she\\u2019s got a niece she\\u2019s never met and never acknowledged. The Clintons have never helped us out.\\u201d \"\n        ],\n        \"semantic_type\": \"\",\n        \"description\": \"\"\n      }\n    },\n    {\n      \"column\": \"title\",\n      \"properties\": {\n        \"dtype\": \"category\",\n        \"num_unique_values\": 10799,\n        \"samples\": [\n          \" but super majorities of average citizens\\u2013both Democrats and Republican\\u2014disagree and the popularity of campaign finance transparency and limits continues to rise .\",\n          \" your contractions\",\n          \" who framed the narrative and whose words were the primary \\u201cnews\\u201d stories of the campaign. \"\n        ],\n        \"semantic_type\": \"\",\n        \"description\": \"\"\n      }\n    },\n    {\n      \"column\": \"author\",\n      \"properties\": {\n        \"dtype\": \"category\",\n        \"num_unique_values\": 6153,\n        \"samples\": [\n          \" have accepted that we are not alone in the universe. Tags\\\"\",\n          \" ran counter to longstanding Justice Department policy against commenting on potentially politically-charged investigations for at least 60 days before an election. \",\n          \" the Evening of the Saints. \"\n        ],\n        \"semantic_type\": \"\",\n        \"description\": \"\"\n      }\n    },\n    {\n      \"column\": \"text\",\n      \"properties\": {\n        \"dtype\": \"category\",\n        \"num_unique_values\": 3206,\n        \"samples\": [\n          \" makes it clear that every armed anti-Assad organization unit in those provinces [of Idlib and Aleppo] is engaged in a military structure controlled by [Al Qaeda\\u0092s] Nusra militants. All of these rebel groups fight alongside the Nusra Front and coordinate their military activities with it.\",\n          \" and must be.\",\n          \" Jewish American philosopher Hannah Arendt summarized the toxic impact of political correctness as follows: \"\n        ],\n        \"semantic_type\": \"\",\n        \"description\": \"\"\n      }\n    },\n    {\n      \"column\": \"label\",\n      \"properties\": {\n        \"dtype\": \"category\",\n        \"num_unique_values\": 1205,\n        \"samples\": [\n          \" and the BA kept finding more and more crucial functionality that would be required if anyone was going to be interested in purchasing the thing. The general feeling of the project team matched the immortal words of Sonic the Hedgehog: \\\"\\\"We're not going to make it. Let's speed up!\\\"\\\" \",\n          \" negative attitudes toward immigrants and even an uncomfortable feeling in his party that he will hurt them on Election Day.\",\n          \" and throwing their weight behind the ol\\u2019 bag. P>Hopkins \"\n        ],\n        \"semantic_type\": \"\",\n        \"description\": \"\"\n      }\n    }\n  ]\n}"
            }
          },
          "metadata": {},
          "execution_count": 2
        }
      ]
    },
    {
      "cell_type": "code",
      "source": [
        "data.info()"
      ],
      "metadata": {
        "id": "H9IlKpU6n1zr",
        "colab": {
          "base_uri": "https://localhost:8080/"
        },
        "outputId": "97c1c6c4-81e6-4dc2-de41-7cdbc802fd40"
      },
      "execution_count": 3,
      "outputs": [
        {
          "output_type": "stream",
          "name": "stdout",
          "text": [
            "<class 'pandas.core.frame.DataFrame'>\n",
            "MultiIndex: 36684 entries, ('0', 'House Dem Aide: We Didn’t Even See Comey’s Letter Until Jason Chaffetz Tweeted It') to ('Gold and silver and the mining stocks still have tremendous YTD gains des', nan)\n",
            "Data columns (total 5 columns):\n",
            " #   Column  Non-Null Count  Dtype \n",
            "---  ------  --------------  ----- \n",
            " 0   id      18169 non-null  object\n",
            " 1   title   12422 non-null  object\n",
            " 2   author  7176 non-null   object\n",
            " 3   text    3643 non-null   object\n",
            " 4   label   1436 non-null   object\n",
            "dtypes: object(5)\n",
            "memory usage: 3.5+ MB\n"
          ]
        }
      ]
    },
    {
      "cell_type": "code",
      "source": [
        "data.isna().sum()"
      ],
      "metadata": {
        "id": "vIBj_wV3oYH6",
        "colab": {
          "base_uri": "https://localhost:8080/",
          "height": 241
        },
        "outputId": "a8212c64-7e97-4f1e-dfb6-23c9e9d8f4cf"
      },
      "execution_count": 4,
      "outputs": [
        {
          "output_type": "execute_result",
          "data": {
            "text/plain": [
              "id        18515\n",
              "title     24262\n",
              "author    29508\n",
              "text      33041\n",
              "label     35248\n",
              "dtype: int64"
            ],
            "text/html": [
              "<div>\n",
              "<style scoped>\n",
              "    .dataframe tbody tr th:only-of-type {\n",
              "        vertical-align: middle;\n",
              "    }\n",
              "\n",
              "    .dataframe tbody tr th {\n",
              "        vertical-align: top;\n",
              "    }\n",
              "\n",
              "    .dataframe thead th {\n",
              "        text-align: right;\n",
              "    }\n",
              "</style>\n",
              "<table border=\"1\" class=\"dataframe\">\n",
              "  <thead>\n",
              "    <tr style=\"text-align: right;\">\n",
              "      <th></th>\n",
              "      <th>0</th>\n",
              "    </tr>\n",
              "  </thead>\n",
              "  <tbody>\n",
              "    <tr>\n",
              "      <th>id</th>\n",
              "      <td>18515</td>\n",
              "    </tr>\n",
              "    <tr>\n",
              "      <th>title</th>\n",
              "      <td>24262</td>\n",
              "    </tr>\n",
              "    <tr>\n",
              "      <th>author</th>\n",
              "      <td>29508</td>\n",
              "    </tr>\n",
              "    <tr>\n",
              "      <th>text</th>\n",
              "      <td>33041</td>\n",
              "    </tr>\n",
              "    <tr>\n",
              "      <th>label</th>\n",
              "      <td>35248</td>\n",
              "    </tr>\n",
              "  </tbody>\n",
              "</table>\n",
              "</div><br><label><b>dtype:</b> int64</label>"
            ]
          },
          "metadata": {},
          "execution_count": 4
        }
      ]
    },
    {
      "cell_type": "code",
      "source": [
        "data = data.drop(['id'], axis=1)"
      ],
      "metadata": {
        "id": "CiPvSAdooap_"
      },
      "execution_count": 5,
      "outputs": []
    },
    {
      "cell_type": "code",
      "source": [
        "data = data.fillna('')"
      ],
      "metadata": {
        "id": "JrmhcT0_omzG"
      },
      "execution_count": 6,
      "outputs": []
    },
    {
      "cell_type": "code",
      "source": [
        "data['content'] = data['author']+' '+data['title']+' '+data['text']"
      ],
      "metadata": {
        "id": "O_ggZpYOozRs"
      },
      "execution_count": 7,
      "outputs": []
    },
    {
      "cell_type": "code",
      "source": [
        "data = data.drop(['title','author','text'], axis=1)"
      ],
      "metadata": {
        "id": "SESfYY4NpkzT"
      },
      "execution_count": 8,
      "outputs": []
    },
    {
      "cell_type": "code",
      "source": [
        "data.head()"
      ],
      "metadata": {
        "id": "Cb4ZFS0dptCD",
        "colab": {
          "base_uri": "https://localhost:8080/",
          "height": 657
        },
        "outputId": "b4fd8fed-5c10-46b5-8893-f6bb9934e5c4"
      },
      "execution_count": 9,
      "outputs": [
        {
          "output_type": "execute_result",
          "data": {
            "text/plain": [
              "                                                                                                                                              label  \\\n",
              "0                                              House Dem Aide: We Didn’t Even See Comey’s Lett...   available under a Creative Commons-BY license)    \n",
              "With apologies to Keith Olbermann               there is no doubt who the Worst Person in The ...                                                     \n",
              "As we now know                                  Comey notified the Republican chairmen and Dem...                                                     \n",
              "— Jason Chaffetz (@jasoninthehouse) October 28  2016                                                                                                  \n",
              "Of course                                       we now know that this was not the case . Comey...                                                     \n",
              "\n",
              "                                                                                                                                             content  \n",
              "0                                              House Dem Aide: We Didn’t Even See Comey’s Lett...   2016 Subscribe Jason Chaffetz on the stump in...  \n",
              "With apologies to Keith Olbermann               there is no doubt who the Worst Person in The ...    the ranking Democrats on the relevant commit...  \n",
              "As we now know                                  Comey notified the Republican chairmen and Dem...   Oversight Committee Chairman Jason Chaffetz s...  \n",
              "— Jason Chaffetz (@jasoninthehouse) October 28  2016                                                                                                  \n",
              "Of course                                       we now know that this was not the case . Comey...                                                     "
            ],
            "text/html": [
              "\n",
              "  <div id=\"df-0a346813-5795-4f8b-a175-6826bd978740\" class=\"colab-df-container\">\n",
              "    <div>\n",
              "<style scoped>\n",
              "    .dataframe tbody tr th:only-of-type {\n",
              "        vertical-align: middle;\n",
              "    }\n",
              "\n",
              "    .dataframe tbody tr th {\n",
              "        vertical-align: top;\n",
              "    }\n",
              "\n",
              "    .dataframe thead th {\n",
              "        text-align: right;\n",
              "    }\n",
              "</style>\n",
              "<table border=\"1\" class=\"dataframe\">\n",
              "  <thead>\n",
              "    <tr style=\"text-align: right;\">\n",
              "      <th></th>\n",
              "      <th></th>\n",
              "      <th>label</th>\n",
              "      <th>content</th>\n",
              "    </tr>\n",
              "  </thead>\n",
              "  <tbody>\n",
              "    <tr>\n",
              "      <th>0</th>\n",
              "      <th>House Dem Aide: We Didn’t Even See Comey’s Letter Until Jason Chaffetz Tweeted It</th>\n",
              "      <td>available under a Creative Commons-BY license)</td>\n",
              "      <td>2016 Subscribe Jason Chaffetz on the stump in...</td>\n",
              "    </tr>\n",
              "    <tr>\n",
              "      <th>With apologies to Keith Olbermann</th>\n",
              "      <th>there is no doubt who the Worst Person in The World is this week–FBI Director James Comey. But according to a House Democratic aide</th>\n",
              "      <td></td>\n",
              "      <td>the ranking Democrats on the relevant commit...</td>\n",
              "    </tr>\n",
              "    <tr>\n",
              "      <th>As we now know</th>\n",
              "      <th>Comey notified the Republican chairmen and Democratic ranking members of the House Intelligence</th>\n",
              "      <td></td>\n",
              "      <td>Oversight Committee Chairman Jason Chaffetz s...</td>\n",
              "    </tr>\n",
              "    <tr>\n",
              "      <th>— Jason Chaffetz (@jasoninthehouse) October 28</th>\n",
              "      <th>2016</th>\n",
              "      <td></td>\n",
              "      <td></td>\n",
              "    </tr>\n",
              "    <tr>\n",
              "      <th>Of course</th>\n",
              "      <th>we now know that this was not the case . Comey was actually saying that it was reviewing the emails in light of “an unrelated case”–which we now know to be Anthony Weiner’s sexting with a teenager. But apparently such little things as facts didn’t matter to Chaffetz. The Utah Republican had already vowed to initiate a raft of investigations if Hillary wins–at least two years’ worth</th>\n",
              "      <td></td>\n",
              "      <td></td>\n",
              "    </tr>\n",
              "  </tbody>\n",
              "</table>\n",
              "</div>\n",
              "    <div class=\"colab-df-buttons\">\n",
              "\n",
              "  <div class=\"colab-df-container\">\n",
              "    <button class=\"colab-df-convert\" onclick=\"convertToInteractive('df-0a346813-5795-4f8b-a175-6826bd978740')\"\n",
              "            title=\"Convert this dataframe to an interactive table.\"\n",
              "            style=\"display:none;\">\n",
              "\n",
              "  <svg xmlns=\"http://www.w3.org/2000/svg\" height=\"24px\" viewBox=\"0 -960 960 960\">\n",
              "    <path d=\"M120-120v-720h720v720H120Zm60-500h600v-160H180v160Zm220 220h160v-160H400v160Zm0 220h160v-160H400v160ZM180-400h160v-160H180v160Zm440 0h160v-160H620v160ZM180-180h160v-160H180v160Zm440 0h160v-160H620v160Z\"/>\n",
              "  </svg>\n",
              "    </button>\n",
              "\n",
              "  <style>\n",
              "    .colab-df-container {\n",
              "      display:flex;\n",
              "      gap: 12px;\n",
              "    }\n",
              "\n",
              "    .colab-df-convert {\n",
              "      background-color: #E8F0FE;\n",
              "      border: none;\n",
              "      border-radius: 50%;\n",
              "      cursor: pointer;\n",
              "      display: none;\n",
              "      fill: #1967D2;\n",
              "      height: 32px;\n",
              "      padding: 0 0 0 0;\n",
              "      width: 32px;\n",
              "    }\n",
              "\n",
              "    .colab-df-convert:hover {\n",
              "      background-color: #E2EBFA;\n",
              "      box-shadow: 0px 1px 2px rgba(60, 64, 67, 0.3), 0px 1px 3px 1px rgba(60, 64, 67, 0.15);\n",
              "      fill: #174EA6;\n",
              "    }\n",
              "\n",
              "    .colab-df-buttons div {\n",
              "      margin-bottom: 4px;\n",
              "    }\n",
              "\n",
              "    [theme=dark] .colab-df-convert {\n",
              "      background-color: #3B4455;\n",
              "      fill: #D2E3FC;\n",
              "    }\n",
              "\n",
              "    [theme=dark] .colab-df-convert:hover {\n",
              "      background-color: #434B5C;\n",
              "      box-shadow: 0px 1px 3px 1px rgba(0, 0, 0, 0.15);\n",
              "      filter: drop-shadow(0px 1px 2px rgba(0, 0, 0, 0.3));\n",
              "      fill: #FFFFFF;\n",
              "    }\n",
              "  </style>\n",
              "\n",
              "    <script>\n",
              "      const buttonEl =\n",
              "        document.querySelector('#df-0a346813-5795-4f8b-a175-6826bd978740 button.colab-df-convert');\n",
              "      buttonEl.style.display =\n",
              "        google.colab.kernel.accessAllowed ? 'block' : 'none';\n",
              "\n",
              "      async function convertToInteractive(key) {\n",
              "        const element = document.querySelector('#df-0a346813-5795-4f8b-a175-6826bd978740');\n",
              "        const dataTable =\n",
              "          await google.colab.kernel.invokeFunction('convertToInteractive',\n",
              "                                                    [key], {});\n",
              "        if (!dataTable) return;\n",
              "\n",
              "        const docLinkHtml = 'Like what you see? Visit the ' +\n",
              "          '<a target=\"_blank\" href=https://colab.research.google.com/notebooks/data_table.ipynb>data table notebook</a>'\n",
              "          + ' to learn more about interactive tables.';\n",
              "        element.innerHTML = '';\n",
              "        dataTable['output_type'] = 'display_data';\n",
              "        await google.colab.output.renderOutput(dataTable, element);\n",
              "        const docLink = document.createElement('div');\n",
              "        docLink.innerHTML = docLinkHtml;\n",
              "        element.appendChild(docLink);\n",
              "      }\n",
              "    </script>\n",
              "  </div>\n",
              "\n",
              "\n",
              "<div id=\"df-d8c01119-969d-4748-bd9d-6c8ba0df594f\">\n",
              "  <button class=\"colab-df-quickchart\" onclick=\"quickchart('df-d8c01119-969d-4748-bd9d-6c8ba0df594f')\"\n",
              "            title=\"Suggest charts\"\n",
              "            style=\"display:none;\">\n",
              "\n",
              "<svg xmlns=\"http://www.w3.org/2000/svg\" height=\"24px\"viewBox=\"0 0 24 24\"\n",
              "     width=\"24px\">\n",
              "    <g>\n",
              "        <path d=\"M19 3H5c-1.1 0-2 .9-2 2v14c0 1.1.9 2 2 2h14c1.1 0 2-.9 2-2V5c0-1.1-.9-2-2-2zM9 17H7v-7h2v7zm4 0h-2V7h2v10zm4 0h-2v-4h2v4z\"/>\n",
              "    </g>\n",
              "</svg>\n",
              "  </button>\n",
              "\n",
              "<style>\n",
              "  .colab-df-quickchart {\n",
              "      --bg-color: #E8F0FE;\n",
              "      --fill-color: #1967D2;\n",
              "      --hover-bg-color: #E2EBFA;\n",
              "      --hover-fill-color: #174EA6;\n",
              "      --disabled-fill-color: #AAA;\n",
              "      --disabled-bg-color: #DDD;\n",
              "  }\n",
              "\n",
              "  [theme=dark] .colab-df-quickchart {\n",
              "      --bg-color: #3B4455;\n",
              "      --fill-color: #D2E3FC;\n",
              "      --hover-bg-color: #434B5C;\n",
              "      --hover-fill-color: #FFFFFF;\n",
              "      --disabled-bg-color: #3B4455;\n",
              "      --disabled-fill-color: #666;\n",
              "  }\n",
              "\n",
              "  .colab-df-quickchart {\n",
              "    background-color: var(--bg-color);\n",
              "    border: none;\n",
              "    border-radius: 50%;\n",
              "    cursor: pointer;\n",
              "    display: none;\n",
              "    fill: var(--fill-color);\n",
              "    height: 32px;\n",
              "    padding: 0;\n",
              "    width: 32px;\n",
              "  }\n",
              "\n",
              "  .colab-df-quickchart:hover {\n",
              "    background-color: var(--hover-bg-color);\n",
              "    box-shadow: 0 1px 2px rgba(60, 64, 67, 0.3), 0 1px 3px 1px rgba(60, 64, 67, 0.15);\n",
              "    fill: var(--button-hover-fill-color);\n",
              "  }\n",
              "\n",
              "  .colab-df-quickchart-complete:disabled,\n",
              "  .colab-df-quickchart-complete:disabled:hover {\n",
              "    background-color: var(--disabled-bg-color);\n",
              "    fill: var(--disabled-fill-color);\n",
              "    box-shadow: none;\n",
              "  }\n",
              "\n",
              "  .colab-df-spinner {\n",
              "    border: 2px solid var(--fill-color);\n",
              "    border-color: transparent;\n",
              "    border-bottom-color: var(--fill-color);\n",
              "    animation:\n",
              "      spin 1s steps(1) infinite;\n",
              "  }\n",
              "\n",
              "  @keyframes spin {\n",
              "    0% {\n",
              "      border-color: transparent;\n",
              "      border-bottom-color: var(--fill-color);\n",
              "      border-left-color: var(--fill-color);\n",
              "    }\n",
              "    20% {\n",
              "      border-color: transparent;\n",
              "      border-left-color: var(--fill-color);\n",
              "      border-top-color: var(--fill-color);\n",
              "    }\n",
              "    30% {\n",
              "      border-color: transparent;\n",
              "      border-left-color: var(--fill-color);\n",
              "      border-top-color: var(--fill-color);\n",
              "      border-right-color: var(--fill-color);\n",
              "    }\n",
              "    40% {\n",
              "      border-color: transparent;\n",
              "      border-right-color: var(--fill-color);\n",
              "      border-top-color: var(--fill-color);\n",
              "    }\n",
              "    60% {\n",
              "      border-color: transparent;\n",
              "      border-right-color: var(--fill-color);\n",
              "    }\n",
              "    80% {\n",
              "      border-color: transparent;\n",
              "      border-right-color: var(--fill-color);\n",
              "      border-bottom-color: var(--fill-color);\n",
              "    }\n",
              "    90% {\n",
              "      border-color: transparent;\n",
              "      border-bottom-color: var(--fill-color);\n",
              "    }\n",
              "  }\n",
              "</style>\n",
              "\n",
              "  <script>\n",
              "    async function quickchart(key) {\n",
              "      const quickchartButtonEl =\n",
              "        document.querySelector('#' + key + ' button');\n",
              "      quickchartButtonEl.disabled = true;  // To prevent multiple clicks.\n",
              "      quickchartButtonEl.classList.add('colab-df-spinner');\n",
              "      try {\n",
              "        const charts = await google.colab.kernel.invokeFunction(\n",
              "            'suggestCharts', [key], {});\n",
              "      } catch (error) {\n",
              "        console.error('Error during call to suggestCharts:', error);\n",
              "      }\n",
              "      quickchartButtonEl.classList.remove('colab-df-spinner');\n",
              "      quickchartButtonEl.classList.add('colab-df-quickchart-complete');\n",
              "    }\n",
              "    (() => {\n",
              "      let quickchartButtonEl =\n",
              "        document.querySelector('#df-d8c01119-969d-4748-bd9d-6c8ba0df594f button');\n",
              "      quickchartButtonEl.style.display =\n",
              "        google.colab.kernel.accessAllowed ? 'block' : 'none';\n",
              "    })();\n",
              "  </script>\n",
              "</div>\n",
              "\n",
              "    </div>\n",
              "  </div>\n"
            ],
            "application/vnd.google.colaboratory.intrinsic+json": {
              "type": "dataframe",
              "variable_name": "data",
              "summary": "{\n  \"name\": \"data\",\n  \"rows\": 36684,\n  \"fields\": [\n    {\n      \"column\": \"label\",\n      \"properties\": {\n        \"dtype\": \"category\",\n        \"num_unique_values\": 1206,\n        \"samples\": [\n          \" a nation that could benefit immensely from female influence at the helm.\",\n          \" 2008. REUTERS/Ali Jarekji/File Photo \",\n          \" will soon erect protectionist barriers. \"\n        ],\n        \"semantic_type\": \"\",\n        \"description\": \"\"\n      }\n    },\n    {\n      \"column\": \"content\",\n      \"properties\": {\n        \"dtype\": \"category\",\n        \"num_unique_values\": 11203,\n        \"samples\": [\n          \" \\\"America\\u2019s Streets Will Run With Blood- Mike Adams  \",\n          \"  2008  \",\n          \"  stated in his speech during the... \"\n        ],\n        \"semantic_type\": \"\",\n        \"description\": \"\"\n      }\n    }\n  ]\n}"
            }
          },
          "metadata": {},
          "execution_count": 9
        }
      ]
    },
    {
      "cell_type": "code",
      "source": [
        "data['content'] = data['content'].apply(lambda x: \" \".join(x.lower() for x in x.split()))"
      ],
      "metadata": {
        "id": "jMnA1goUqBg5"
      },
      "execution_count": 10,
      "outputs": []
    },
    {
      "cell_type": "code",
      "source": [
        "data['content'] = data['content'].str.replace('[^\\w\\s]','')"
      ],
      "metadata": {
        "id": "YdhzP7hbqVyb"
      },
      "execution_count": 11,
      "outputs": []
    },
    {
      "cell_type": "code",
      "source": [
        "import nltk\n",
        "nltk.download('stopwords')"
      ],
      "metadata": {
        "id": "jQi65lInqls6",
        "colab": {
          "base_uri": "https://localhost:8080/"
        },
        "outputId": "81b32a90-e915-4851-ce93-5df01200a8a9"
      },
      "execution_count": 12,
      "outputs": [
        {
          "output_type": "stream",
          "name": "stderr",
          "text": [
            "[nltk_data] Downloading package stopwords to /root/nltk_data...\n",
            "[nltk_data]   Unzipping corpora/stopwords.zip.\n"
          ]
        },
        {
          "output_type": "execute_result",
          "data": {
            "text/plain": [
              "True"
            ]
          },
          "metadata": {},
          "execution_count": 12
        }
      ]
    },
    {
      "cell_type": "code",
      "source": [
        "from nltk.corpus import stopwords\n",
        "stop = stopwords.words('english')\n",
        "data['content'] = data['content'].apply(lambda x: \" \".join(x for x in x.split() if x not in stop))"
      ],
      "metadata": {
        "id": "hCGp--W-rPn9"
      },
      "execution_count": 13,
      "outputs": []
    },
    {
      "cell_type": "code",
      "source": [
        "!pip install textblob"
      ],
      "metadata": {
        "id": "oUJlzv7CsTJ-",
        "colab": {
          "base_uri": "https://localhost:8080/"
        },
        "outputId": "786c1621-58e4-4d31-c4a1-267aeef6f3ce"
      },
      "execution_count": 14,
      "outputs": [
        {
          "output_type": "stream",
          "name": "stdout",
          "text": [
            "Requirement already satisfied: textblob in /usr/local/lib/python3.11/dist-packages (0.19.0)\n",
            "Requirement already satisfied: nltk>=3.9 in /usr/local/lib/python3.11/dist-packages (from textblob) (3.9.1)\n",
            "Requirement already satisfied: click in /usr/local/lib/python3.11/dist-packages (from nltk>=3.9->textblob) (8.1.8)\n",
            "Requirement already satisfied: joblib in /usr/local/lib/python3.11/dist-packages (from nltk>=3.9->textblob) (1.4.2)\n",
            "Requirement already satisfied: regex>=2021.8.3 in /usr/local/lib/python3.11/dist-packages (from nltk>=3.9->textblob) (2024.11.6)\n",
            "Requirement already satisfied: tqdm in /usr/local/lib/python3.11/dist-packages (from nltk>=3.9->textblob) (4.67.1)\n"
          ]
        }
      ]
    },
    {
      "cell_type": "code",
      "source": [
        "import nltk\n",
        "nltk.download('wordnet')\n",
        "from nltk.stem import WordNetLemmatizer\n",
        "from textblob import Word\n",
        "data['content'] = data['content'].apply(lambda x: \" \".join([Word(word).lemmatize() for word in x.split()]))\n",
        "data['content'].head()"
      ],
      "metadata": {
        "id": "6g0CadRZsXEH",
        "colab": {
          "base_uri": "https://localhost:8080/",
          "height": 622
        },
        "outputId": "bf9bdbc1-2c25-4873-d746-18e620671552"
      },
      "execution_count": 15,
      "outputs": [
        {
          "output_type": "stream",
          "name": "stderr",
          "text": [
            "[nltk_data] Downloading package wordnet to /root/nltk_data...\n"
          ]
        },
        {
          "output_type": "execute_result",
          "data": {
            "text/plain": [
              "0                                               House Dem Aide: We Didn’t Even See Comey’s Letter Until Jason Chaffetz Tweeted It                                                                                                                                                                                                                                                                                                                    2016 subscribe jason chaffetz stump american f...\n",
              "With apologies to Keith Olbermann                there is no doubt who the Worst Person in The World is this week–FBI Director James Comey. But according to a House Democratic aide                                                                                                                                                                                                                                                                 ranking democrat relevant committee didn’t hea...\n",
              "As we now know                                   Comey notified the Republican chairmen and Democratic ranking members of the House Intelligence                                                                                                                                                                                                                                                                                                     oversight committee chairman jason chaffetz se...\n",
              "— Jason Chaffetz (@jasoninthehouse) October 28   2016                                                                                                                                                                                                                                                                                                                                                                                                                                                 \n",
              "Of course                                        we now know that this was not the case . Comey was actually saying that it was reviewing the emails in light of “an unrelated case”–which we now know to be Anthony Weiner’s sexting with a teenager. But apparently such little things as facts didn’t matter to Chaffetz. The Utah Republican had already vowed to initiate a raft of investigations if Hillary wins–at least two years’ worth                                                     \n",
              "Name: content, dtype: object"
            ],
            "text/html": [
              "<div>\n",
              "<style scoped>\n",
              "    .dataframe tbody tr th:only-of-type {\n",
              "        vertical-align: middle;\n",
              "    }\n",
              "\n",
              "    .dataframe tbody tr th {\n",
              "        vertical-align: top;\n",
              "    }\n",
              "\n",
              "    .dataframe thead th {\n",
              "        text-align: right;\n",
              "    }\n",
              "</style>\n",
              "<table border=\"1\" class=\"dataframe\">\n",
              "  <thead>\n",
              "    <tr style=\"text-align: right;\">\n",
              "      <th></th>\n",
              "      <th></th>\n",
              "      <th>content</th>\n",
              "    </tr>\n",
              "  </thead>\n",
              "  <tbody>\n",
              "    <tr>\n",
              "      <th>0</th>\n",
              "      <th>House Dem Aide: We Didn’t Even See Comey’s Letter Until Jason Chaffetz Tweeted It</th>\n",
              "      <td>2016 subscribe jason chaffetz stump american f...</td>\n",
              "    </tr>\n",
              "    <tr>\n",
              "      <th>With apologies to Keith Olbermann</th>\n",
              "      <th>there is no doubt who the Worst Person in The World is this week–FBI Director James Comey. But according to a House Democratic aide</th>\n",
              "      <td>ranking democrat relevant committee didn’t hea...</td>\n",
              "    </tr>\n",
              "    <tr>\n",
              "      <th>As we now know</th>\n",
              "      <th>Comey notified the Republican chairmen and Democratic ranking members of the House Intelligence</th>\n",
              "      <td>oversight committee chairman jason chaffetz se...</td>\n",
              "    </tr>\n",
              "    <tr>\n",
              "      <th>— Jason Chaffetz (@jasoninthehouse) October 28</th>\n",
              "      <th>2016</th>\n",
              "      <td></td>\n",
              "    </tr>\n",
              "    <tr>\n",
              "      <th>Of course</th>\n",
              "      <th>we now know that this was not the case . Comey was actually saying that it was reviewing the emails in light of “an unrelated case”–which we now know to be Anthony Weiner’s sexting with a teenager. But apparently such little things as facts didn’t matter to Chaffetz. The Utah Republican had already vowed to initiate a raft of investigations if Hillary wins–at least two years’ worth</th>\n",
              "      <td></td>\n",
              "    </tr>\n",
              "  </tbody>\n",
              "</table>\n",
              "</div><br><label><b>dtype:</b> object</label>"
            ]
          },
          "metadata": {},
          "execution_count": 15
        }
      ]
    },
    {
      "cell_type": "code",
      "source": [
        "X = data[['content']]\n",
        "y = data['label']"
      ],
      "metadata": {
        "id": "JZi03VOCsdwC"
      },
      "execution_count": 16,
      "outputs": []
    },
    {
      "cell_type": "code",
      "source": [
        "from sklearn.model_selection import train_test_split"
      ],
      "metadata": {
        "id": "8Y3GI7U9taNl"
      },
      "execution_count": 17,
      "outputs": []
    },
    {
      "cell_type": "code",
      "source": [
        "class_counts = data['label'].value_counts()\n",
        "classes_with_one_sample = class_counts[class_counts == 1].index.tolist()\n",
        "if classes_with_one_sample:\n",
        "    print(f\"Removing classes with only one sample: {classes_with_one_sample}\")\n",
        "    data = data[~data['label'].isin(classes_with_one_sample)]\n",
        "    X = data[['content']]\n",
        "    y = data['label']\n",
        "X_train, X_test, y_train, y_test = train_test_split(X, y, test_size=0.3, random_state=45, stratify=y)"
      ],
      "metadata": {
        "id": "B2x1oyeqteQG",
        "colab": {
          "base_uri": "https://localhost:8080/"
        },
        "outputId": "3afcfa6c-de9c-4c11-bfe0-4a390bb81c4b"
      },
      "execution_count": 18,
      "outputs": [
        {
          "output_type": "stream",
          "name": "stdout",
          "text": [
            "Removing classes with only one sample: [' and the End of the World ', ' but also physical damage.', ' commentary by Father X ', ' he was also a street preacher who preached Jesus to lost people. ', ' pop up in their gardens. Should those individuals fail to eradicate the weed — a lengthy and difficult process requiring deep excavation — they could end up with criminal records. ', ' even though Clinton said she disclosed them all. It’s goin’ down. Right now. All of those people who were prepared to take one for Team Clinton might want to reconsider. It’s hard to imagine even Teflon-coated Hillary Clinton getting out of this mess.', ' the Trump supporter said he fears progressives will want to “declare martial law and take our guns away” after the election. ', ' and published her incredibly powerful followup essay. ', ' and I have a right to my belief that the most famous comet of all time is coming to send them all to early graves. Get ready for a peer-reviewed ass clobbering at the hands of frozen ice and rock.” 3. The time he went on a Twitter rant about Donald Trump. 4. The time a guy was blocking his driveway. 5.The time someone called him ugly. ', ' as well as free to defend against people that seek to sabotage him; a voluntary tribal society devoid of forced associations. ', ' inventors and ideas to the point that we are now suffering from social and financial stagnation. ', ' from Dissent: Do We Need It? ', ' 1994 ', '000 a Month by Foundation Run by Banker With Ties to Financial Crisis ', ' I’m grabbing my musket. You in?” ', ' we were relegated to wondering what might have been.” ', ' that also may be enough to set off widespread civil unrest all across the country. ', ' newspapers and every agency created for the public protection.” ( source )( source ) ', ' and I mean thousands of billions of dollars have been spent on projects about which both the Congress and the Commander in Chief have been kept deliberately in the dark.” ( source ) ', ' have the capability to launch nuclear missiles and communicate with nuclear submarines. ', '” a label that cannot be attached to the ISIS fighters currently inhabiting Raqqa. ', ' or even feeding wild birds. ', ' a former investigator of international terrorism with the CIA who turned whistleblower.', ' should rise up and demand the combination of higher rates and the swift end of permanent austerity with bold public spending. ', ' 11/01/2016 - 19:14 Tweet Widget by Danny Haiphong ', ' the Director stated that the mission of S/ES-IRM is to support the Secretary and instructed the staff never to speak of the Secretaryâ€™s personal email system again.', ' в то же время служат для финансирования крупных инвестиционных проектов.', ' so my vote for him is also a protest vote. ', ' bloggers like Matt Walsh and evangelical leaders like Russell Moore and Beth Moore. ', ' and diplomatic support for the expansion of Japan’s military footprint in Asia. ', ' and the occasional megatyphoon and I have an idea the reason that Fidel Ramos championed Duterte is because he saw him as the one candidate who would focus on domestic issues and not pivot-friendly bullsh*t. ', ' to fracking and social security stand in stark contrast to the promises she makes to the powerful. ', '000 barrels to global supply last month. ', ' the UK is a major consumer of EU products and its balance of commerce with the EU was negative by about £62 billion in 2014. ', ' 2016. (Photo by Gage Skidmore) ', ' will soon erect protectionist barriers. ', ' thus threatening the work of a six-year-long negotiation. In the case of the UK — and whether or not trade treaties are actually advancing free trade — the British economy cannot afford to wait that long for free trade. ', ' brilliantly warned: ', ' rather than the 20 percentage points enjoyed under Regan. ', ' 2016 http://www.nytimes.com/interactive/2016/11/08/us/politics/election-exit-polls.html ', ' 2012 ', ' ranking Russia moved up to the 40th position in the Doing Business-2017 rating. Source: Getty Images ', ' as the face of those failures. ', ' now that the KGB official’s prediction has come true. ', ' and that family is directly impacted by the attacks on public education in our city. ', ' and U.S. Presidency. ', ' upon recall of the exact moment he realized the Communist official had been telling the truth. ', \" and Libya. Draitser's piece is a study into the path that all genuine anti-imperialists should avoid. \", \" the US. This is confirmed in Draitser's article. Yet he still reinforces the claim that a popular uprising started the war even though Assad possessed broad support in 2011 . \", ' но на деле с ним не рассталась.', ' and the rewriting of tax codes so the wealthy pay their share. Unions have much in common with these values. ', ' to radiate it out to others who are so in need of it during these times. ', ' the Clinton campaign apparatus would kick into high gear and release a flurry of press releases designed to cast doubt not only on Trump’s character but on his patriotism. ', ' the Earth turns and all is as it should be. ', ' we couldn’t be happier. ', ' it looks like its all for nothing. ', ' foreign-policy “realists” wonder why the administration is rushing ahead with a strategy that it knows won’t work. ', ' 2014. (Official White House Photo by David Lienemann) ', ' ended more lives than the many wars this country has been unnecessarily been waging for the past 15 years. ', ' 2016 8:48 AM EST ', ' CounterPunch) ', ' а затем официальным представителем Братьев-мусульман всего мира.', ' which threatens to rapidly spread into and cripple the American economy just ahead of the holiday selling season. ', ' in fact; whether you love it or hate it. ', ' 2013 Subscribe ', ' Demonstrate in Cemetery  ', ' it could fund 4 years’ worth of radical fiscal adventurism as well as crony communism regime change. ', ' who was the former head of the UNHCR and is an avowed socialist. ', ' an accurate and reliable forecasting method we have developed and use. You can read a detailed explanation of the syndrome in our first article on the subject: “The Clinton Syndrome: The Establishment’s Weapon for National Conquest (Part 1)” LINK ', ' we have to understand what is happening in politics in order to understand what is likely to happen in markets. We write a great deal about politics at this critical juncture in order to help you understand markets and achieve the financial freedom you desire and deserve. ', ' but pertains to Heartland Alliance’s FOIA request to the DHS for information on Tier III terrorist organizations. ', ' секреты любимого повара или тренера по дзюдо… Да мало ли что составляет в России государственную тайну. Смешные. Кто-то видел в руках у российского президента смартфон или сидящего его за компьютером? Вот так надо хранить государственные тайны. А они со взломами баз данных. ', ' said: ', ' “He means the Jews.” So revealing #Trumpslide https://t.co/TMVJCO4I3G ', ' is also one of Kissinger’s achievements. ', ' and so on.” ', '100 tonnes. ', ' to commit the Jack the Ripper murders. ', ' with the election. ', ' Westchester. But it’s not clear what role he is playing in the presidential transition. ', ' but there doesn’t seem to be much else being done in response to this coordinated assault. ', '” as chief White House strategist. The first charge is apparently a reference to Bannon’s Breitbart News having covered groups which talk about protecting the European heritage and Judeo-Christian traditions of the United States and other Western nations. Some of these groups are controversial and out of the conservative mainstream. But the idea that they are in favor of white supremacy is ludicrous. The “domestic abuser” charge against Bannon was dismissed as a spurious accusation made by an angry spouse in a divorce case. ', ' or a grenade launcher (which is useless without grenades). ', ' and found the number to be vastly larger: upwards of 660 million. His analysis is available here . ', ' министром обороны при Джордже Буше-младшем. Плавающий бронетранспортёр EFV Бронетранспортёр EFV © DOD ', ' полностью снаряжённые прототипы в ходе испытаний зачастую просто не могли оторваться от земли. Проект был закрыт в 2004 году. Boeing YAL-1 Самолёт Boeing YAL-1 с лазерной установкой © DOD ', ' so the media has provided a list of states that allow you to change your early vote. Here’s a list of States that will allow early voters to change their early vote following the reopening of the FBI probe. #HillarysEmails pic.twitter.com/ggPZDmgBNw ', ' and the United States. ', ' SET YET ANOTHER RECORD 0 SHARES ', ' and inflation eroding the value of the dollar and conclude that this might not be the best time to start handing out billions of dollars in foreign aid. Unfortunately most Members of Congress find it impossible to say no to special interest groups like AIPAC. ', ' and cremtine has never been easier. 1. Go running ', '” if the right people are given his ear. ', ' as we approach the 43nd anniversary of the Roe v. Wade. ', ' of our “unalienable” rights. ', ' the enigmatic Nephilim have long been considered the giant beings that inhabited our planet in the distant past.', ' the Appellate Court stated that the BZA does not have the authority to impose the durational limit on the restaurant’s parking lot because the Town Code does not confer any such power to limit the life of the approval.', ' the new media is transparent about its values and who it stands for. ', ' our view is that a Trump presidency would likely spark a massive run on the greenback in a reversal of the biggest carry trade on earth caused by those fund managers who borrowed big time to juice their investment returns in a world of low yields. We believe a Trump victory would likely translate into a $100 per ounce spike overnight. Gold will be a good thing to have. ', ' the effects of an environment are immediately obvious.', ' and health.', '’ sources say ', ' и всем будет хорошо. Проблемы простых смертных решатся мигом. ', ' Gallup) ', ' criminal activities onto Moscow. ', ' healthcare spending is 25 percent higher than before the recession began in 2007. ', ' admitted that the militants in Syria have received financial and military aid from Saudi Arabia and certain other Persian Gulf Arab states. 36 Shares', ' regardless who wins.” ', ' KWN King World News ', ' do it with love. ', ' animal or plant life. ', ' “Is my fear of judgment more important than sharing ideas that could change the world?” ', ' growing and waste management and various forms of innovation that could literally free humanity! ', ' Huma Abedin & Hillary Clinton (right) ', ' could be the first step toward Big Cannabis .”', ' the fear itself. ', ' on the market. ', \" news about Donald Trump's ties to Russia continues to gain steam. Share on Twitter Print This Post \", ' penniless. ', ' would link a string of outposts that effectively divide the West Bank and make the possibility of a viable Palestinian state more remote. ', ' then tell Obama “NO NO NO. Dividing Israel will be the death of us.” ', ' however. iris ', ' after beginning His ministry in Jerusalem at Passover. ', ' and we will live in His sight.” (Hosea 6:1-2) ', ' that day of romans 11:26. ', ' if that means she was a boy’. ', ' on the border of Syria. ', ' and a lot of them.” ', ' 11 November 2016 ', ' 2016. (UN Photo) ', ' http://www.pewresearch.org/fact-tank/2014/10/09/for-most-workers-real-wages-have-barely-budged-for-decades/ ', ' available under a Creative Commons-BY license) ', ' perhaps staunchly. ', ' that’s not what happened.” ', ' and some are suggesting Obama still has plenty of business left undone and havoc that he can wreak during the final days of his unlamented administration. ', ' the model calculated how these randomly located embryos grew and migrated. What kind of planets are formed depends on the structure and evolution of the protoplanetary disks.', '” he adds.', ' but a bottling exemption within the law allows water to be sold outside the region if it’s shipped in bottles smaller than 5.7 gallons.” ', ' American businessman beat out the globalist titans and Satanic elite.', ' setting off a fresh round in the long-dormant Cold War nuclear arms race. ', ' a recipe for almost unimaginable escalation and disaster of an apocalyptic sort. This danger is likely to become more pronounced in the years ahead because both Washington and Moscow seem remarkably intent on developing and deploying new nuclear weapons designed with just such needs in mind. ', ' igniting a thermonuclear war. ', ' warning of calamitous consequences if the march of global warming cannot be halted.', ' aided by its finances. ', ' of the Chinese elite that has every intention of not being subject to the will of Washington. At a state level we can perceive this struggle with the emergence of institutions like the AIIB and organization of the BRICS. ', ' will be more likely to pursue aggressive strategies in Southeast Asia with much greater determination as to risk conflict. ', ' with new institutions like the AIIB and the BRICS bank creating an alternative pole to the American globalist system of IMF-World Bank-FED. ', ' something that has not happened in decades. ', ' ineffective and against American interests in region in the first place. ', ' bills that were designed to rein in government abuses end up just giving government more power. Is there anything we can do about it? Ron Paul Institute Senior Fellow Adam Dick joins today’s Ron Paul Liberty Report to discuss:', ' but nevertheless Trump was before millions of people a week. ', ' — сказал собеседник Pravda.Ru. ', ' we’ll never see them again.” ', ' CNN have played a critical role in conditioning their viewers to accept a new and dangerous cold war. ', ' he died!” ', ' the Washington Post. ', ' and for representative democracies today. ”', ' and 535 people in Congress. ', ' un tribunal turc a interdit la publication et la reproduction de ces e-mails.', ' not a mere “Member”. ', ' driving and shaping up the content and quality of the education and training of their future employees. ', ' CalPERS must be relieved that journalists were too inattentive to pick up on the fact that the agency was disregarding the advice of its own designated risk expert. No doubt the agency is keen to get an actuary in place that won’t take positions that could make its hard-to-defend posture even more untenable. ', ' Mideast regional powers growing uneasy with Abbas ', ' Hillary would have gotten shellacked in the popular voting as well. ', ' War Is a Force That Gives Us Meaning ', ' and all of it participated in the onslaught. Zyuganov surrendered. ', \" the looping phrase “Donald Trump will be president” had reportedly taken up permanent residence inside Gibson’s consciousness. Share This Story: WATCH VIDEO FROM THE ONION Sign up For The Onion's Newsletter \", ' it comes down to anti-Russian hysteria at little cost thanks to media propaganda. ', ' who have a strong interest in maintaining the US role in the world and prolonging its unipolar moment. ', ' as several New Yorker’s stood in line awaiting their chance to partake in this year’s presidential election.', ' and for whatever purpose put some information out there.” ', ' or feminine energy that causes an inward journey. ', ' \"\"He never even stood a chance!\"\" ', ' but by the drop off in orders occasioned by its end. He elaborated in a 1947 letter to a friend: “We had one underlying element of comfort and reassurance during the war. We knew we’d get paid for anything we built. Now we are almost entirely on our own.” ', ' saying that the film (which is free on the Internet) was “a call to shake off the creeping tyranny of Islamisation.” ', ' and I’m convinced our best days are ahead of us if we reach for them together.”', ' and environmental justice.', ' 2016 The newly opened FBI investigation of Hillary Clinton\\'s private email server marks \"\"a potential Constitutional crisis\"\" for the country. ', ' arrogant slogans. Thus the upcoming forum is billed as: ', ' Liberty Blitzkrieg ', ' and which includes a burgeoning alliance with Russia.', ' and massive ass damage. ', ' it is necessary to know the names of several of his companies first. Some of these names have not been detected in the Cyprus searches before. ', ' it could lead to “another Revolutionary War.” ', ' has ended in a debacle. ', ' and understanding that it is never working against us – only we can choose to work against it’s flow. 3. Physical Action Isn’t the Only Action ', ' said ', ' but polling in swing states shows that it is Hillary Clinton who is getting new voters out to support her.   ', ' to discuss“military cooperation and regional issues”.', ' to support Daesh. ', ' it is known as the «Second Civil War». ', ' the military and the Joint Chiefs are reluctant to intervene in Syria against Assad. The policy to take down Assad is a mistake.', ' that the Syrian government then activated their air defense and threatened to shoot down any Turkish planes in Syrian airspace.', ' are becoming almost a daily routine for the international coalition.”', '000 or more” fighters in a “constellation” of groups in Syria. The article had some interesting quotes:', ' and that process has already begun for Donald Trump. Share on Twitter Print This Post ', ' dead. ', ' including World War II. She may not see a woman as president of the United States. I mourn for her loss. ', ' 2016 @ 2:09 pm ', ' but we seem to be doing less. The issue lies in our inability to focus.', ' victims need to discover a remedy fast.', ' because those are so much more economically valuable for them. ', ' stockpiles chemicals ', \" remote check-ins would not confuse or overwhelm them.” Sign up for the free Anti-Media newsletter the establishment doesn't want you to receive \", '000 planets outside of our solar system.', ' and the search for truth. ', ' among them the DRC. ', ' and metaphysical abilities. Everyone has a light to shine in their own unique way.', ' Gets Arrested Google Pinterest Digg Linkedin Reddit Stumbleupon Print Delicious Pocket Tumblr ', ' 2016 by Sam J. ', ' the memo gives WJC the following action point: ', ' fair-trade and financial-reform campaigns and more -- is on the march. Now we desperately need new thinking and a revived peace movement to take on the Blob and its endless wars. View Ratings | Rate It http://www.ourfuture.org ', ' training -- without trimming the objectives. It is hard to see this as anything other than a demented recipe for endless wars without victory. ', ' 2016 at 9:02 pm The comment came hours after Trump promised a \"\"new deal for black America.\\' Share on Twitter Print This Post ', ' low level classifications of Secret. Had I ever sent even one in such a manner I would have been prosecuted and sent to Federal Prison for 20 years or so. That is how serious this violation is considered. ', ' you stopped short of investigating the Clinton Foundation as a RICO case (Racketeering Influenced and Corrupt Organization. This is a RICO case ifthere ever were one. Even an untrained person can tell from the communications which were recovered that Hillary Clinton spent more time working for the Clinton Foundation while Secretary of State than on State Business. It may be argued that Hillary did not do any State business UNLESS the Clinton Foundation benefitted. You decided to just let this uncomfortable truth alone without addressing it. ', ' but instead personally made the decision not to prosecute her or even provide the information to a Federal Grand Jury. You were wrong to take this upon yourself. ', ' hee”. She should have been put into a straightjacket and taken to the nearest mental hospital Gay Veteran ', ' humility and logic and is good about showing the contrast between grace and faith vs works and sin. ', ' and you can fill in all the others. I’ve been getting updates from Judicial Watch for years on her activities and distain for our system of government and laws! ', ' and Ignorance. ', '” she told reporter Lucinda Frank. ', ' to be heard.', ' “you’re kidding yourself!” ', ' 2016 Paul Ryan’s Plan To Use Bernie To Scare Voters Blew Up In His Face And Bernie Can’t Stop Laughing   ', ' para evitar estos actos irregulares y las empresas puedan tener igualdad de trato y puedan acceder de manera equilibrada y justa a los contratos con el Estado.', '” he said. ', '000 soldiers. These battalions are said to become operational in early 2017. The alliance has justified its massive buildup by blaming Russia for its ostensibly “assertive” behavior. Moscow has consistently denied these groundless claims. ', '” Ermakov said. ', ' I teach in a welding program at a community college.', ' it has only had minor influence in America in the form of the Industrial Workers of the World (IWW) labor union. ', ' is very common. ', ' for it becometh us and well behoveth us to make friends of such as he hath in favour.” ', ' claiming that it has a war to fight and needs the revenues. ', ' the man who came out and highlighted how the US created ISIS in a declassified DIA document . ', ' and supporters — for reasons as yet unknown. ', \" have praised Comey's recent efforts as an attempt to correct a corrupt investigation that seemingly ignored critical evidence while granting numerous immunity agreements to Clinton staffers. \", ' 2016 - Fort Russ News - ', ' and plenty “god” objects that mashed together thirty unrelated behaviors into one mess that behaved differently depending on which specific flags you set. ', ' but Dev-Burt also was eager to talk about what a genius he was. ', ' including Al Qaeda members…“ ', ' Hillary parroted the phony propaganda of the CIA: ', ' have the ability to take down an aircraft carrier that ventures into waters they claim for their own. ', ' the elevation of Hillary Clinton to the position of the mad hatter to achieve the mutual assured destruction that these Illuminati’s masters of the universe require to purge the “Little People” from the planet. ', ' he confronted that moment within himself before that first flight where he had to take the leap of faith. He had lived until then having never flown before — but he trusted the inner voice that told him to fly. And he is magnificent. ', ' new directions are not only available for us but are now inevitable — and manifesting fast. ', ' et al.) and demands an expert’s checkmark.” ', ' people who deserve better. ', ' “Have you hear of the Sonderkommandos? Jewish guards who helped murder Jews in the camps. So there were even Jews that were helping the Nazis murder Jews! So black who are helping the other side are seriously f*cked in the head. They’re only helping the enemy who will destroy them. Maybe they think ‘if I help them we’ll get along okay; somehow I’ll save my race by working with the murderers.” Barber was caught in this disgusting tirade on the Upper West Side of New York City after the fundraiser in September. Watch for yourself: ', ' even for herself.” (3.14.33) ', \" the country's Interior Ministry said on Wednesday. \", '” Comey announced today. ', ' anyway. ', ' angry about the Ghostbuster remake – that sort of thing. We are not that. At all. ', ' others still bearing traces of their stolen childhood. No airbrushed or pornographic reality on this site. Only a crucial omission: Real girl soldiers – who constitute up to 40 percent of child soldiers and suffer the most vile sexual violation and rejection – are missing . ', ' during peace time.” ', ' extinguish their consciences and break their wills. Kony forced the girls to train with AK-47s. He also distributed them among his commanders as “wives.” They were expected to fight even with babies strapped to their backs. ', ' nearly half the interviewed girls in armed groups described their primary role as “fighter.” ', ' but also their fellow-man and the environment they live in. ', ' it would also involve tremendous bloodshed and loss of life. (Let’s hope it doesn’t come to that.) ', ' which come down to protection and security. ', ' and destroy millions of lives in order to hide it from them. ', ' there would be a mill for processing. The claim area occupies about 450 acres and is also referred to as the \"\"New U\"\" uranium claims. ', ' anyone? ', ' etc.” ', ' Biyolojik ve Kimyasal Savunma Merkezinin (CİA NBCR) bir eğitim tatbikatının söz konusu olduğunu söyledi.', \" while 10.2% rejected that radical idea that's been in the U.S. Constitution since day 1. \", ' while 10.2% rejected that radical idea that’s been in the U.S. Constitution since day 1. ', ' and we are commanded to love them too. ', ' every step of the way. ', ' and unforgiveness has become a national pastime. ', ' 2010. (Photo via Bloomberg News) ', ' the Republican candidate for the US 2016 presidential election ', ' live-feed surveillance system that could cast an unblinking eye on an entire city.” ', ' as well. ', ' but it could not get her elected. ', ' and arrested.” ', ' will be the first in decades in which the JusticeDepartment can only send full-access observers to states where a federal court ruling has authorized it. ', ' and enforced disappearances). The ‘heartbreaking’ research involved merely 78 residents (mostly former) and 29 professionals working in Aleppo .', ' Wyoming and Montana—including the reservation and unceded territories reserved for hunting. ', ' mais elle le fait en plusieurs langues différentes. Tous ses cours se déroulent sous forme de jeu. ', ' la petite fille a appris 60 de ces cartes avec ses parents. Elle a commencéà lire couramment à l’âge de deux ans. Dessins animés en chinois ', '” says American analyst Scott Bennett. ', ' as the Russians have stated weapons to Ukraine means war with the U.S. and NATO. ', ' Romanian airspace is being patrolled by the RAF (Royal Air Force) of Britain. ', ' the Roman deity of shepherds: ', ' and the institutions of our time have flamboyantly failed. ', ' that is an impossible thing in Prussia. We have no defective titles.” German farm credit distribution rested on a solid foundation of independent oversight and bureaucratic reliability. It was a far cry from the underdeveloped and scandal-ridden United States national government. ', ' they approached credit not as inherently exploitative so much as a technical problem to be solved. They looked to Europe for guidance and inspiration. Hence the tour. ', ' a society built on unsustainable debt peonage. ', ' so I was going to make sure I’ ', ' but I didn’t know. ', ' but they threw me to the ground and worked me over! ', ' so I couldn’t do that. ', ' just loved it. ', ' proceed with caution. Withdrawing Your Money From the Bank ', ' said in a statement: ', ' and what it contains may destroy Hillary’s chances. Aion The Irredeemable ', ' are also part of the DAPL story. ', ' Trump has more determination at winning the Oval Office than had Bernie. He also had stronger opposition. richard vajs ', ' all rich nations that are perfectly capable of defending themselves. And he provoked the undying ire of the War Party when he asked : “Wouldn’t it be nice if we could get along with Russia?” ', ' extracting billions from the “public” purse and filling their coffers at our expense. ', ' in Chapel... ', ' Plato asserted that a republic could not survive without an educated populace – and thus republics tend to devolve into dictatorships – another theme underscored by Sobran. ', ' some might feel “threatened” by his honesty – but that just shows how far we have fallen in so short a time. The other point to keep in mind is that while many took exception to what Joe wrote about Bill (and Hillary) – or Billary since it was Bill himself who promised (or warned) us that we were getting two for the price of one – no one has ever been able to dispute the accuracy of the commentary. ', ' we need it!', ' in an attempt to walk away from the fact that Hillary Clinton nor does the president have a record of doing anything for our innercities whether be blacks or Latinos.', ' I’m gonna put $20 billion into School Choice.', ' and Westchester County district attorney for 12 years. ', ' or whichever country we’re supposedly ‘liberating” at great cost – has visceral appeal to ordinary Americans. ', ' using sophisticated gadgets to carry out their trade.', ' he received a notification from his internet service provider that he had zero balance left on his data pack. ', ' Mr. Capers declined to comment. ', ' is killing us.', ' you know what I mean? I sit there and don’t have a care in the world. I didn’t have my own boat. I was renting the stuff right there. ', ' and no more than a minute or two. ', ' etc. etc.). ', ' is the pharmaceutical industry going to make any money on healthy people?” ', ' would dock at Ceuta to restock after 10 days at sea. ', ' no one raised an eyebrow at her Bernie bumper sticker–or my Hillary sticker. Hopefully this is a sign that evangelical women who are leaning toward the Democrats can finally come out of the shadows. About Darrell Lucus ', ' FBI Oregon ', ' and embrace white ethno-nationalism as a fundamental value. ', ' examinando la boca del pasadizo subterráneo del escape.', ' expresidente de la cámara alta. ', ' the visible state whose leaders we choose.” ', ' and misdemeanor marijuana possession. ', ' the police state will transition to martial law. ', ' my low polling numbers were used to justify my exclusion from events. ', ' at least we could expose the insincerity of the current attempt at healthcare reform and show that single payer was actively being excluded.” ', ' and colleagues grapple with the notion of precious metals. ', ' according to Nordic knife blog Nordiska Kniva r.', ' though theoretically anyone could create their own shielded room or home using these materials:', ' the population itself has reached the point of revolt and uprising.', '\"\" ', ' or in this instance even an indictment.\"\" ', ' said at the event late on Wednesday.', ' pues. Sporting 1-3 Real Sociedad ', ' five are in custody. ', ' they won’t be able to win outright. ', '” according to Zero Hedge . ', ' brother etc. You cant take it with you when you die. You will be remembered and judged by your relationships and actions (works). It is time to help those in need and love others. Don’t forget the golden rule. Liberty First ', ' most of his stock investment has now hit decade highs. With some hitting record highs. ', ' told The Houston Chronicle . ', ' something truly wonderful will happen. This is not at all what I thought a pumpkin was. ', ' using gender discrimination to give a veneer of plausibility to their accusations. ', ' is as real as any other. ', ' symbol taken in fact from the world of tabletop and PC gaming and turned into ideological brand by Russian philosopher Alexander Dugin (or his minions): an individual widely promoted by core members of alt right movement. ', ' the Oligarchy still exists and is still powerful.', ' often conveyed by “activists” with video cameras who have depicted the conflict as simply the willful killing of children by the evil Syrian government and the even more evil Russians. ', ' bone growth and immune function. [15] ', ' fibromyalgia pain and spinal cord pain. [8] ', ' the latter naturally tended to discount what they read in the media because they knew that the media were biased. Claus-Erik Hamle ', ' выписываемых ногами обезглавленной курицы. ', '000 years ago. Lab tests have confirmed the age of the artifact and its mysterious composition. The idea that humanity has been visited by beings not from Earth in the distant past has captured the interest of millions worldwide.', ' whose infamous meeting with Bill Clinton on the Phoenix tarmac at the end of June will likely be reassessed in light of these latest revelations. ', ' but would a black president be much different from nearly eight years of black secretaries of state? The march of blackness may be vaguely worrying to whites but they think there is nothing they can do about it and that they shouldn’t even if they could. ', ' and the Second Coming all rolled into one. Many whites will vote for Mr. Obama because they want to think they helped “make history.” ', '” and they adore blacks who don’t act or sound black. ', ' and they have a clear favorite in Mr. Obama. ', ' - цитирует дипломата ТАСС. ', ' auf die Liste der \"\"globalen Terroristen\"\" setzen.', ' not a bribe.\\x94', ' and I going to use it today to buy more food to cook for these good people who are trying to save our water and our culture.” ', \" his campaign's internal polling must be dreadful \", ' где такое чудо современной техники чуть не угробило одного из сотрудников IT-выставки. ', ' and Michigan.', ' but have yet to see one. ', ' they would have to prove that Pantaleo intended to violate Garner’s civil rights. ', ' Adderall’s use among college students is becoming increasingly common. The latest federal data shows that Adderall’s recreational use has increased by nearly 67% in the last ten years and is now being prescribed at a rate 30 times higher than it was two decades ago. ', ' the more we can go against punishments that are outrageous for the crime .There are thousands and thousands in jails across the country for nothing more then using or growing their own medicine . STOP THE TRYANNY ! Jake Seilman ', ' and incarceration rates haven’t changed at all. ', ' to support and to raise funds for the Foundation.” ', ' российский белый медведь Феликс и российская же черепашка-предсказательница Ася. ', '” the document stated. ', ' 2016 by Rebecca Diserio in News Share This ', ' we\\'re going to do what we have to do. We\\'re going to protest and boycott and practice civil disobedience. We may start a third party.\"\" ', ' but everyone near the archeological find feels the value of the holy tomb giving the resurrection message.', ' according to CBN News.', ' start by doing just 30 seconds at the end of your usual warm shower and go from there. You want to train yourself until you can comfortably stand under the coldest water for at least five minutes. 6. Fear ', ' says Britain’s top spy By 0 41 ', ' and they were directed to FEMA to apply for their low interest loans. ', ' to return to a home at all. ', ' is home to an isolated tribe that has never been colonized or even made contact with. These people are one of the last Stone Age tribes on Earth whose culture has been completely untouched by modern civilization. ', ' TPP became political anathema to any politician who tried to touch it. ', ' and places of worship. These attacks may amount to war crimes.”', ' often hitting civilians.” ', ' and other weapons. ', ' which together are worth over $197 million. ', ' wenn sie irakische Städte und Dörfer befreiten. Die arabische Bevölkerung werde verdrängt und kurdische Siedler nähmen ihren Platz ein.', ' from here on (surely for decades and perhaps far longer). Global demand for nearly everything is set to suffer. ” (FFR stands for Federal Funds Rate: i.e. the US key interest rate) Source: http://econimica.blogspot.it/2016/11/trump-lies-no-different-than-obama-or.html ', ' be it collective or personal. It’s not something that’s for sale.” ', ' and must be destroyed.\"\" ', ' and participate in the creation of new formats and areas of work.\"\" ', ' or it seems the nation has evolved past it.', ' does not work.', ' globalism.', '” Jackson said. ', ' 2007 ', ' 2008 ', ' at a much faster pace and without the laborious monologs. ', ' and there’s reason for us to be seriously concerned.” ', ' and a half empty bottle of Jim Beam sat clasped in his other hand. ', ' are invited to attend - whether they do is another matter.  ', ' public comment on a pending investigative matter may affect the electoral process and create the appearance of political interference in the fair administration of justice. ', ' 2016 ‘Particularly Vulnerable To Pay To Play Practices’ ', ' unaccountable money to come into our electoral system. ” ', ' expecting a different result. ', ' spending 17 years on the sports beat. Jane blogs at JaneChastain.com. She is a pilot who lives on a private runway. Print ', ' giving up rights or the protection of those rights.', ' and reason can win them over.', ' of any neighborhood’s improvement. Why is that? ', ' “more than $55 million American taxpayer dollars flowed out of Hillary Clinton’s State Department to a non-profit run by Laureate CEO Douglas Becker.” ', ' and the unacceptability of interference in the internal affairs of sovereign states.\"\" ', ' Russia has been actively involved in the destruction of the terrorists on the territory of the Syrian Arab Republic.\"\" ', ' which many believe was her punishment for standing up to the establishment. ', ' and clothing. The Bison is also a symbol of gratitude and honor as it is happy to accept its meager existence as it stands proud against the winds of adversity. The bison represents abundance of the Creator’s bounty and respect for all creation knowing that all things are sacred.” ', ' and I’ll oppose it as president.” ', ' reports Kredo.” ', ' we’re going to build the wall.” ', ' East Palto had the highest murder rate in all of America. Then a transformation happened as Hispanics flooded in. Ron Unz: ', ' indeed desirable. ', ' but necessary thought experiment runs something like this. ', ' Clinton … ', ' mostly based on manufactured fears. ', ' can’t gloss over the fact that the majority of them are barely afloat. ', ' a fresh-off-the-boat immigrant from Mali or Bangladesh. Black maladaptation is only getting worse. ', ' since doing so will pose relatively low risks.” ', ' or 100%. ', ' coverage in the West.', ' but still the private sector in Syria plays a very important part beside the public. ', ' and took those hills right away in less than one hour after the attack. ', '” which is an American. They could see ISIS using our oil fields and carrying the oil through the barrel trucks to Turkey under their drones… ', ' the challenge of implementing the Mother Tongue policy for all our tribes has been hard work. ', ' conservatives and constitutionalists concerned about federal lawlessness in other areas — everything from healthcare and environmental policy to gun control and abortion — should take a lesson. ', ' including a visit by President Obama to the state on Wednesday. ', ' “an open and transparent message of deterrence.” ', \" the Apple of God's eye. The Islamos are interloping squatters there and I'm surprised Israel tolerates their presence.\", ' ultimately are going to be more successful than societies that don’t.” ', ' or tribalism” taking root amid the populist movements that are gaining currency around the world. ', ' is a common tool of propagandists worldwide. ', ' and the May Fourth Movement of 1919–perturbations that would spin China into over half a century of upheaval. ', ' China found itself at the mercy of the Western powers that it once looked down upon. ', ' negative attitudes toward immigrants and even an uncomfortable feeling in his party that he will hurt them on Election Day.', ' April 2013 ', ' allowing the mainstream media to dictate reality for hundreds of millions of Americans who receive constant news! ', ' it means you are talking about thousands of casualties in one place in a very short time. We never had this kind of incidents; just allegations in the Western media. ', '” Deveney added. ', ' “ Yuck .” ', ' we learn she was styled “the ‘Female Indiana Jones’ by Time Magazine (2015) and the ‘Oprah of Adventure’ by The Huffington Post (2016).” Really? ', ' carrying placards and shouting in protest. Similar actions took place in cities across the nation and continue as I write. ', ' a physical ache. ', ' as they would for weeks to come. ', ' I think it’s a very good thing that we’re in a lower risk of any kind of accidental nuclear conflict with the Russians. She did that. ', ' as I was 25 years ago.\"\" ', \" Israel's Counsul-general in Los Angeles. \", ' to remember which of his actions \"\"haunted\"\" him the most. ', ' or killed. ', ' lors de leur sixième sommet [ 1 ].', ' leur capacité extraordinaire à transformer un mauvais moment en une occasion d’approfondir leurs liens à partir d’un point de vue stratégique.', ' but they keep—they continue to come and desecrate those sacred places.” ', ' and should never be. ', ' and having been carried there so that Paris could grow. ', ' Alison Teal was busy showing herself near an erupting volcano. Notice another strategic part-display of her butt. ', ' the mainstream media reacts completely differently and celebrates her without the least hint of criticism. ', ' leaving those avenues to others more schooled in religious matters. ', ' the bird dies.” ', ' city buses and passenger vehicles stood at a standstill. ', '000 unnecessary deaths would have been prevented. ', ' each and every citizen living on Mother Earth. Native American activist Leonard Peltier’s FBI headshot (Wikipedia) ', ' if you will? ', ' many years. ', ' as a current board member of the International Indian Treaty Council. ', ' 2015 ', '” then I would say what I am pointing at.’ ', ' and a bull in a china shop in terms of her effect on both the country and the world—and I apologize to bulls for that analogy. The world is more unstable because of her. ', ' doesn’t really exist. ', ' you know what I’m talking about. ', ' is exactly what gave rise to Trump.', ' who became Deputy Foreign Minister in 1984. ', ' to become commander of the Navy in October 1989. ', ' what however is clear is that their institutional strength has given them the political influence to have a say in Iran’s internal affairs. ', ' determination and superiority in manpower were enough. Pasdaran commander Mohsen Rezaei once asserted that: ', ' 2016. (Photo by AP) ', ' finally free Leonard Peltier? ', ' for the first time in 41 years.” And we hope and we pray that that happens before the president goes out of office. ', ' he could still reach the “thousands” predicted in 2014. ', ' 26 October 2016 ', ' it’s about a third. ', ' under a restructured payment system. ', ' ha matizado. ', ' we know why. ', ' and support racial reconciliation. ', ' “Police Reform: How to Take Advantage of the Crisis of the Moment and Drive Long-Term Institutional Change in Police-Community Practice.” ', ' too. ORDER IT NOW ', ' than look for another job. ', ' you delivered analysis and opinions to the thinking working men of America. ', ' and so on.', ' court system and police forces will continue to be bogged down with the persecution and prosecution of non-violent offenders. Read more articles by Vic Bishop . About the Author ', ' and criticized Reaganâ\\x80\\x99s overhyped fears of its expansion. The co-authors of Beyond the Melting Pot were clearly liberals of an older stock than one is used to reading. ', ' who at the time populated a fourth of the city. Is that America? Will it become America? ', ' their message must be broader still. - Advertisement - ', ' “ $20 million in speeches for the President have derived … from Justin and my efforts.” [via FOX News ] ', ' we need all the humor we can get! Ron Ninon ', ' and sleeping. ', ' Congress would reschedule the drug. ', ' Eric Schmidt. Experts say the effort resembles how the Communist Chinese dictatorship monitors people and modifies their behavior through media manipulation and censorship of the Web. ', ' but it’s there. You need to login to view this content. ', ' and whatever other infamous acts may not have come to light yet. Photo: AP Images Please review our Comment Policy before posting a comment ', ' Inc.” ', ' the Supreme Court decided to weigh in on transgender rights in the case of Gloucester County School Board vs. G.G. This gives the right wing another chance to take civil rights away from people they don’t like. Plain and simple. Share on Twitter Print This Post ', ' and no one ever gets shot. I can go to town and leave all my doors open and unlocked. ', ' but at least is doing things a lot smarter than the vast majority of the U.S. which is going backwards. Tyler ', ' our homes are constructed to withstand earthquakes & are built on a foundation! Christian ', ' traffic…no thanks. A short visit is pleasant but living there was becoming a nightmare. Calilove ', ' please go awa . It’s great because whenever I visit anywhere else I always notice: the weather really sucks and everything is so cheap! No sales tax? No state income tax? I am always blown away by states like this. That makes my dollar go a lot farther when I travel so fine by me. Orisha ', ' etc.. Even prisoners in California live better than middle classes in other countries. The tax payers in CA are SO generous. Thanks guys. john ', ' these are some of the biggest morons to ever hold office. They even shut down our farm lands to save a freaken fish. Stupid people and I can’t wait to leave…. B ', ' also from way down south past Mexico. Unless your a reneck “ahmercin”.then you should understand that there is alot more people who come.here illegaly. angel ', ' you’re likely not part of the population that would do that. liberranter ', ' anyway? And shouldn’t Obama have fixed them after 4 years? arizonadiane ', ' “a difficult task when one isn’t exactly sure in advance the extent of the associations being pursued.” ', ' for any reason. Hope for Cannabis in America ', ' as if talking about what they saw as officers is treasonous. That weighs heavy on veterans of the drone program and makes them terrified to be labeled whistleblowers because they know how the government could destroy their lives if they become known to the public as whistleblowers. ', ' it may not matter who becomes the next attorney general. ', ' Ahrar al-Sham and the Islamic Front joint the offensive. ', ' and Hungary…that machine is up and running in the United States. Paid protestors and other rabble rousers are being paid by Soros and bussed into the target cities to foment riot and dissent. This isn’t the first time Soros has funded riots on American soil and it won’t be the last.', ' but alternative forms of political power to represent our interest.” ', '\"\" said Putin. ', ' RBTH Daily Russian President Vladimir Putin. Source: Kremlin.ru ', ' but so far at least there are some encouraging signs. ', ' and organizations are working on trying to find a solution. ', '400-dollar bar tab consisting of bottles of Crystal champagne and bottles of Ciroc vodka. ', ' despite the obvious nature of her offenses. Most of all it explains why there is no indication of the identity of Secretary Clinton’s correspondents in the various reports so far available”… Hillary Clinton: An Agent for Russia ', ' working for the Chinese. ', ' 2016 by Robert Rich in News Share This ', ' this is not only the personal opinion of one European MEP. This is the assessment of the overwhelming majority of the European political mainstream. ', ' Yushchenko. Then it was the South and East that felt betrayed.  ', ' why would they all ... make up these stories?” ', ' has also accused him of raping her. To date a dozen women have publicly alleged that Trump in some way assaulted them. ', ' I don’t believe everyone in San Francisco is gay or liberal. [Common misperception of an entire community]. MeMadMax ', ' its origins as a test ship meant it lacked a damage-control party. ', ' the year after the VICP was formed.” ', ' China intend to develop small satellite for Wi-Fi network ', ' but it doesn’t make Trump’s appeal to a significant chunk of the electorate illegitimate.” ', ' and other restrictive measures. ;', ' they took to the streets. ;', ' because of the absence of competition.  ;  ;  ;  ;  ;  ; ;', ' there is no motivation to vote. ;', ' because it is necessary. This is the very logic and motivation that drive average voters to elect United Russia.  ;', ' step by step.  ;  ;  ; ;', ' and dirty political techniques against the liberal and communist parties during the political campaign and before Election Day. ;', ' Kemerovo region etc. ;', ' 2011 ', ' without any delay.” ', ' and he’s ready to fight for us!” ', ' because they protect oil. Morton county and DAPL security are inhuman. What is wrong with their hearts?”', ' 2016 A member of the electoral commission in Texas says his colleagues are getting death threats as angry Hillary supporters ramp up the pressure before electors cast their vote on December 19th. ', ' Secretary of State John Kerry called for an investigation of war crimes in Aleppo.', ' other towns with a living Muslim population documented in photographs during the mid and late 1800’s always feature a lot of mosques. ', ' and travelled in a manner not associated with royalty\\u2002–\\u2002by horse and camping out in tents. ', ' appliances.”', ' even if they had been raped. ', 'Proof of Inappropriate Handling Classified Information ', ' - заявил Дорриан. ', ' dictates that it will be the obligation of the Court’s members’ policing agencies to “cooperate fully with the Court in its investigation and prosecution of crimes.”', ' wondering how we can reach out to portions of Trump’s base. ', ' this is really intolerable. [It means] that [they] are trying to get at a publishing organisation; [they] try and prevent it from publishing true information that is of intense interest to the American people and others about an election. ', ' and Child Health. ', ' ratificado además por el Consejo de Seguridad de las Naciones Unidas (CSNU). ', ' as nearly every ‘experienced’ individual in these positions seems to be.', ' Europe ', ' emphasis added). ', ' to the impact of that decision on the foundation’s tax exempt status.’” ', ' the Clinton Foundation was not legally registered as a non-profit in New York.] ', '” Knittel said. ', ' even though the company penalizes drivers who cancel frequently. ', ' Jr. ', ' gdy zagraża nową pożogą Libii – zostaje rozpalony nowy konflikt na Ukrainie. Taki rozwój wydarzeń możemy zinterpretować na dwa sposoby.', ' shareholder dividends or surplus cash for lean years when losses are incurred. ', ' if I had my way I wouldn’t bring Putin and Russia up at all. ', ' and set up an extensive system of verification and compliance. ', ' thank you very much.” ', ' not due to any criminal activity but just because his speech is politically incorrect. Matt reminds us that the reason for this is because they have no answer to our talking points. They cannot debate us so they always seek to shut us down. ', ' have some type of brittle bone or other medical condition. ', ' and there were no bruises on the baby. Laura says there were: ', ' so they planned to take him in the following Monday to check on it. Photo courtesy of the family. ', ' he only cried when his diaper was being changed or when he had gas. ', ' when the incident occurred.  ', ' you can’t discount the placebo effect. ', ' the sesame group dropped down to 3.5—significantly lower than the control group. ', ' and there’s nothing he can do about it.” ', ' and politically in a way that it will take a Herculean effort to be able to put it back together again. An effort that requires drastic change: both political and institutional. ', ' or categorize them . . . and that definitely applied to pollsters. ', ' which leads to his conspiratorial thinking. Only the naïve fail to understand they’re the victim of a con. ', ' why not take a gamble on Trump? ', ' turnout in the area appears to be way uglier than analysts initially predicted. ', ' and five-year-long disastrous war in Iraq had made the nation crappy enough to rise above 300 years of racial prejudice and make lasting change. ', ' Barack Obama deplaning Air Force One (right) ', ' according to Daniel Horowitz at Conservative Review. ', ' human rights activists and civic leaders have been killed. The notorious narco-President Alvaro Uribe and his Vice President Santos worked with the death squads and the Colombian military under the instruction of over one thousand US military advisers and contract mercenaries as they imposed a scorched earth policy – to consolidate a ‘reign of Western values’. ', ' only to confront the US scourge of deportation. Over 2 million have been imprisoned and expelled under Obama. ', ' he should be do everything else for himself. ', ' if not less. ', ' without being requested. ', ' is one of the seven companies named in the initial investigation. –Daily Signal/Heritage Foundation ', ' or shield undocumented aliens and could apply to officials in sanctuary cities and states.\"\" ', ' allied itself with Al Qaeda terrorists.', ' KWN II King World News ', ' morally and responsibly to “FIT IN!” and if more and more people did that then stereotypes would change. ', ' life of servant hood (slavery) always in fear? ', ' mainly due to the “Chip That Is ON Their Shoulder”…discussed later. ', ' and the manufacturing sector still contributes to over 40 percent of its GDP. It is still in the middle of a rapid urbanization process. It is not yet a welfare state. Chinese people are fully aware of the fact that their safety net is the result of their own frugality rather than government promises. China has the biggest potential market of 1.3 billion people with a rising middle-class that is still increasing in numbers and share in population. Serving them well is one of the biggest business opportunities in the 21st century. ', ' SIFMA ', ' and I’ll give you everything. ', ' there are also three rookeries where cubs are not born. ', ' Jr . ', ' they said.', ' far more serious systemic problems. ', ' but nothing’s really changed.” ', ' 700 light years from Earth. ', ' professor of Hydraulic Engineering at Virginia Tech. ', ' is there anyone more inspiring than Michelle Obama?” —Hillary ', ' and the public’s frayed loyalty to the existing system could snap. ', ' and attribute it all to \\x93evil\\x94 Russian hacking when the real source for the leaks might have come straight from the belly of the (Washington) beast.', ' believing she were the other one of the students. However others said he clearly meant to hit the woman. ', ' 127 people were detained in the biggest mass arrest to date.', ' которые направляются к Земле со стороны Солнца. ', ' there is ', ' Trump said something that has turned out to be both profound and prophetic. ', '000 pertinent to Hillary’s case. Things aren’t looking so good for Hillary Clinton ', ' black sea fleet ', ' and the absolute prostrate worship of money are the major symptoms. Sen. Bernie Sanders and former Secretary of State Hillary Clinton at a Democratic presidential debate sponsored by CNN. ', ' and resolved criminal cases against more than 65 companies with penalties and forfeiture of approximately $4.5 billion. ', ' and most ethical members of the legal profession to practice law as we would want them to. ', ' signifying nothing. ', ' is the complete lack of any real evidence to support the idea that it causes cardiovascular disease. ', ' said in a statement.', ' by the end of 2016. ', ' social and economic experiences—without embracing people of every sexual orientation and gender identity—we’re leading in a complex world with one hand tied behind our back.” ', ' would also be over-diagnosed for a non-malignant form of cancer that never even would have become “clinically apparent.” ', ' but it is the perfect example of the mental illness. ', ' and brain swelling ', ' is that true? Or did it just slow it down? What will a Trump presidency mean in that sense?” ', ' in a nod to the sixteen elements discovered at Berkeley Lab and UC Berkeley. ', ' being able to buy millions-of-dollars of his company’s stocks prior to the public being told his JP Morgan bank was receiving a Federal Reserve $80 billion credit line—and that caused JP Morgan’s stocks to soar and that have had an astonishing 920% dividend growth since 2010. ', ' “we the people” are the government.', ' LGBT Americans and Asian Americans. ', ' the visible state whose leaders we choose.\\x94', ' and misdemeanor marijuana possession.', ' the police state will transition to martial law.', ' critical cultural and economic center of Aleppo – scourging the Christians and non-jihadi Muslims and other ancient minorities. Over two million Syrians have died or fled the fiery scourge of Anglo-American and Saudi-Turkish terror. ', ' states. ', ' many gun owners will hurry to the buyback centers. UncleMike Davis ', ' making them history’s most murderous ideologues. ', ' is destroying the reputation of all progressives by circulating a petition that directs the electors of the Electoral Collage to annul the election by casting their votes for Hillary. Remember how upset progressives were when Trump said he might not accept the election result if there was evidence that the vote was rigged? Now progressives are doing what they damned Trump for saying he might do under certain conditions.', ' less than 4 years after forming.', ' and avoid the throngs of tourists.', ' 2016 Universal Child Hosted by Joanna L Ross KCOR Digital Radio Network Season 1 Episode 24 ', ' a mistake’ explained the Pentagon. ', ' and cannot unlearn what they now know. ', ' Donald Trump and Hillary Clinton partied the night away at a Jesuit function that included such prominent Jesuit-trained attendees as Henry Kissinger.', ' and three Israeli Prime Ministers…â€\\x9d', ' even in foreign nations.', ' this US spy agency to use his country to interrogate (actually torture) high value Islamic terror leaders.', ' preying upon young Russian girls brought to that country to perform pedophile sex acts.', ' under FBI investigation. [Note: Some words and/or phrases appearing in quotes in this report are English language approximations of Russian words/phrases having no exact counterpart.]', \"000 calories a day and weigh more than 320 kilograms as she tried to satisfy boyfriend's fantasies\", ' is believed to have occurred. A storm of this magnitude today would cause widespread damage to the electric grid of unprecedented proportions.”', ' “Proud member of the American Communist Party” (video here ; forward to 6:07). No wonder the Communist Party USA is “all in” for Hillary . ', ' Trump says he is concerned with the absence of careers for those very people protesting in the streets of 25 cities against him.', \" more efficient government' Published: 12 mins ago \", '000 since taking office in January 2011. ', ' security hurried Trump off state and arrested the would-be assassin. ', ' and throwing their weight behind the ol’ bag. P>Hopkins ', ' 2016 by Doug P. Share on Facebook Share on Twitter ', ' of ‘nuclear primacy.’ ', '’” ', ' which is one important reason why Obama lies to say that all of the Aegis Ashore facilities will be targeted against Iran—and maybe also North Korea—but never against Russia. ', ' alliance) has come to extend right up to Rus ', ' turned heads and inspired voters more than any other. ', ' the disgraced former Congressman Anthony Weiner. See “ Weinered: FBI re-opens investigation into Hillary Clinton’s emails “ ', ' 2015 in New York. ', ' penniless.', ' ', ' we live in “civilizational realms” which have ancient roots and our worldview and outlook on life are often shaped by a past which we often know very little about. ', ' the Latins have always been rabid innovators and modernists. ', ' politics. The best I can provide at this point are a few bullet-point style sentences summarizing what happened: ', ' 33 and 32 percent. ', ' Buriticá has the potential to approximately double the legal production of gold in Colombia and become the largest single gold mine in the country. ', ' protesters marked with numbers and kept in dog kennels after arrest… ', ' against Syria and Russia.” ', ' you should be pleased about that. ', ' in Urbandale. ', ' The Des Moines Register) ', ' Russia and a number of Asian countries in the last years of the 20th century. ', ' but in the context of the inflation-depreciation spiral it certainly did. So inflation rose even faster. ', '” which shows a correlation between the decline of black fatherhood and the drop in black participation in baseball. ', ' it is probably looking for others nations’ ‘taps’ or ASW arrays in the area. ', ' it could conveniently include official monitoring of events in Syria & the Russian Navy in the Med. LINK ', ' just trying to take their taste for her away.” ', ' and start voting Republican. The political apple doesn’t fall far from the tree: son Jeb ended his presidential ambitions by calling illegal immigration an “act of love.” ', ' Reagan suggested we should “open the border both ways.” ', ' said: “I think embargoes that attempt to control sourcing are dangerous because they limit the role of the reporter whose job is to do a full look at a subject. It’s really inappropriate for a source to be telling a journalist whom he or she can and can’t talk to.” ', ' except that a handful (where noted) may be Arab American but of uncertain religion (esp. Christian). ', ' David *Subject:* Hi again from AP (inquiry about thumb drive) ', ' are adding fuel (literally) to the fire of cancer. ', ' Gavin. -JA pic.twitter.com/7zyzs1Qxxk ', ' was about 3 weeks before Obama was elected. Muslims were chosen to be in the Obama administration weeks before his “election.” ', ' and they have a really bad surprise for Hillary. Rapper “Freenauts” wears “Hillary for Prison” t-shirt while performing rap song “Justice For Danney Williams” ', ' a weekly newspaper with a conservative bent. ', ' and political operations.” – John F Kennedy (8) ', ' St. Philip Neri and St. Ignatius Loyola. ', '’ but Rudy Giuliani said ‘yes’ and I felt I had to accede to him. I hope you can forgive me.” ', ' Curacao and all the other island nations across the Caribbean. ', ' and the judges might request additional information before authorizing an investigation. ', ' Afghanistan. (Najim Rahim / AP) ', ' wrote on Monday. ', ' to make an announcement his supporters characterize as a “bombshell that will rock Hillary’s campaign.” ', ' close to the ministers’ meeting.” ', ' 2008. REUTERS/Ali Jarekji/File Photo ', ' 2011 ( David Shankbone / CC BY 3.0 ) Michael Moore’s “Trumpland” is a textbook illustration of how the mindset of voting for “the lesser evil” just results in self-delusion—and ever more evil. ', ' and chief of the DRS-run AQIM training camp at Tamouret.', ' even if only metaphorically.', ' амфибий и рептилий. ', ' always interrupting his enemy when they are making a mistake. Not so this week (though there are 5 days to go). Kellyanne Conway must have gotten Trump’s attention somehow. Or Ivanka. ', ' & a trust fund kid former Republican (FL) ', ' your dreams will be coming true before long. ', ' Vladimir Putin just made a speech that is unlikely to appear in any mainstream media. Share on Facebook ', ' but it does get the point across in no uncertain terms. ', ' 2016 at 6:09 pm ', ' which is what got you the attention in the first place. ', ' the index stood 20 percent higher than its average during the 1990s. There is no way to explain this other than by realizing that commodities had become scarcer than in the previous decade. ', ' as Clinton lost Michigan by roughly half that number. ', ' President Obama won all of those states in 2012. Obama also won roughly 2.6 million more votes than Hillary Clinton won in 2016. Donald Trump’s narrow margin of victory in the Electoral College was only possible by winning all of the aforementioned rust belt states . ', ' making the news back in 2012 by suing for the right to be allowed group prayer . What went wrong? ', ' American forces went to war with the Taliban. He was captured on November 25 after his unit surrendered in Kunduz. ', ' Rebel Without A Clue Beau Albrecht ', ' en su oportunidad.', ' hoy preso!', ' bright red or hot pink flowers.', ' doesn’t it?', ' and effectively took control of the Trump campaign when Breitbart chairman Stephen Bannon became campaign CEO. ', ' los reencuentros merecen la pena no tanto por la ilusión “como por lo que se cobra”. ', ' le ha tirado un vaso de agua a la cara a Rajoy y ha fingido un desmayo. Fuentes del Congreso aseguran que Hernando ha guiñado el ojo a Rajoy en un par de ocasiones para tranquilizar al candidato a la presidencia. ', ' lo haremos a la segunda”. ', ' to be civically engaged to create a better world for our communities. ', ' RBTH Daily Bella Devyatkina Source: Rossia One TV Channel ', ' October 28th. You need to login to view this content. ', ' and they don’t want them to breed anymore? ” ', '000 in perpetual balance with nature.” ~ Georgia Guidestones ', ' Trump is an unmitigated disaster. What Does a Trump Victory Mean for Africa? by Patrick Bond ', ' her word isn’t all the accuser was armed with . Stock image of Michael Jackson’s “Neverland” ranch ', '\"Print ', ' indicating a 170-person increase compared to 2015. ', ' shared its erroneous data on conservative opponents of the Obama administration with federal law enforcement agencies. ', ' is with the thought and never with the person. To understand that is to unburden yourself from being bitter and revengeful. 12. 10 percent of what you earn should be kept aside for dharma ', ' which enriches their days now.” They start to remember the things that made their heart sing once. 11. You don’t break ties with people; you break ties with the thought they produce ', ' do something about it ', ' and are one of the fastest-growing groups in federal prisons. ', ' Trump’s anti-“free trade” stance and opposition to regime change and military confrontation with Russia and China drove most of the Republican-allied section of the ruling class straight into Hillary Clinton’s imperial Big Tent. ', ' unless they are tripped up on the closely related issues of race (failure to “stand up” to the Blacks) and foreign policy (failure to “stand up” to whoever is the designated foreign enemy). ', ' and not for all. But far from everyone was ready to agree with this.” ', ' Commander in Chief Donald Trump. ', ' and which horses are being traded? ', ' as they know they are above the laws for mere mortal humans. Linda Brown ', ' which makes me think they have professional training or friends in high places. ', ' who is currently a top official at the US Justice Department serving as Assistant Attorney General for Legislative Affairs. ', ' rather than cultivating a mind state of separation. ', ' is a given. ', ' per person. ', ' Marcus Mumford. ', '509. ', ' It Will Be The Biggest Miracle In US Political History ', ' at Press TV’s ‘The Debate’ show on Monday night. ', '” Mikhail argued. ', ' and many others are suffering from terrorism and separatist terrorism.”What’s your comment on that? Do you think it’s a reasonable statement? ', ' which is not a member of NATO but has close ties with the alliance. ', ' South Korea and Australia which have treaty ties to the US and consider themselves to be under the protection of the “US nuclear umbrella”. ', ' and New Zealand have already been SHARING “signals-intelligence” information – or electronic “eavesdropping” information – with each other and with Uncle Sam; through the ECHELON electronic eavesdropping network; which was set up back in 1964. ', ' and a “we know better” attitude. ', ' feminism). ', ' they are getting quite a bit of very friendly publicity as a form of reaction to the rise of the Alt-Right. ', ' moralistic mental midgets. ', ' and discarded by the Clintons when they became inconvenient. ', ' and jailing them at will rather than granting them the rights afforded to Israeli citizens. ', ' or else an apartheid reality if Palestinian residents are deprived of the right to vote. Both spell doom for the Zionist dream.” ', ' “There will be no withdrawals” from the occupied West Bank and “no concessions” to the Palestinians. ', ' has reportedly been advising its scientific experts not to publish internal research data on its 2015 report on “probably carcinogenic” glyphosate. ', ' we are living in a moment when Native water protectors and water warriors have more than earned both acknowledgement and solidarity. ', ' we feel the need to say a few things. ', ' the money donated and invested was extraordinary. But nobody seems to know where it has gone. ', ' who is already deeply tied to the Clinton email cover-up Democratic Party Machine has created a distraction to cover-up latest Wikileaks dump. FBI are trying to restore lost public confidence over allegations of favoring Hillary Clintons. Create a controlled explosion this weekend to clear the decks for another salacious Trump scandal next week. ', ' a functioning factory there.” ', ' and the housing problem was handed over to the private sector.” ', ' its whereabouts unknown. As Politico explained : ', ' the interest of foreigners are prioritized over the majority of people who are impoverished in Haiti.” ', ' they spoke proudly of what the New York Daily News characterized as a program of “supporting longterm programs to develop Haiti’s business class.” ', ' Slovenia and Spain shamefully supported the vile resolution. ', ' “when he attributed to me things I have never claimed and distorted the events of the 1948 war.” ', ' they Arab states had continuously declared their intent “to attack the Jewish state when the British left.” ', ' the Herero began the rebellion against German colonialism in Namibia.” [4] ', ' beneath a portrait of Theodor Herzl ( Rudi Weissenstein ) ', ' Katehon -  ', ' and now we have the first case of HIV that this dreadful ban has caused. ', ' сами они легко считывают информацию с лиц хозяев. ', ' сообщает портал. ', ' and their combined destabilization potential explains why they’re both categorized together as part of the Failed State Belt. ', ' there’s still a strong likelihood that at least some of the investigated possibilities will eventually occur to varying extents and that the geopolitical repercussions will indisputably impact quite negatively on China and the larger multipolar world’s grand position in the New Cold War. ', ' United States By Andrew KORYBKO (USA) ', '2016 ', ' and drown out alternate messages. ', ' and radio. Appointment to the BBG is like being awarded an ambassador position for the media industry. It’s also why big media carries the same line or themes. ', ' the report said.', ' вложенную в планшет со словами: \"\"Я ушла познавать мир\"\". ', '500. The woman then used the cash for a downpayment towards a countryhouse home.', ' it was anybody he could screw with… ', ' then let me be on my way. ', ' Gallup reported Singaporeans’ confidence in the government and judicial system among the highest in the world. ', ' Putin was his designated successor at a time when Russia was in a shambles. ', ' will overtake the culture and risk destroying the very culture that makes it presently so inviting for those seeking a better life. ', ' Cina e Arabia Saudita domano l’egemonia del dollaro di Ariel Noyola Rodríguez ', ' and nothing has been decided yet. ', ' Regeneration leader Benedikt Jóhanesson has said he wouldn´t consider a coalition with the governing parties. Thus that particular scenario is doubted. ', ' Fla. ', ' guidano la costruzione del sistema monetario multipolare. ', ' il Presidente Vladimir Putin ha costruito con l’omologo Xi Jinping una potente alleanza finanziaria che cerca di porre fine una volta per tutte al dominio della moneta statunitense. ', ' per coprire i deficit gemelli (commercio e bilancio); cioè per il dipartimento del Tesoro è questione di vita o di morte vendere titoli di debito nel mondo e così finanziare le spese degli USA. ', ' in her home.', ' and not for all. But far from everyone was ready to agree with this.', ' all the region is known for. ', ' 2016 8:53 AM EST ', ' and put forward new initiatives and recommendations that will help us find the way to the more prosperous and sustainable future that we all badly need.', ' but there is no global result and the terrorist threat continues to grow.', ' if there is any.', ' are constantly being distorted and we often see what only yesterday was taken as a truth and raised to dogma status reversed completely.', ' or the job they worked at…. They were not satisfied with anything or anybody… ', ' whatever. Gary Honeycutt ', ' Германией. Поэтому от этого государства ожидать самостоятельности во внешней политике не приходится. ', ' he is deprived for ever from employment on that land.” [46] ', ' neither the fact that some Arabs were allowed to remain nor that many fled out of fear is inconsistent with the recognition of what happened as ethnic cleansing. ', ' and to our advantage. There will certainly be considerable changes in the demographic composition of the country. [86] ', ' they ordered another operation against the same village on 11 January in order to complete the expulsion. The Hagana blew up most of the houses in the village and drove out all the people who were still there. [85] ', ' and he cites it as an example of a place where Arabs “were ordered or encouraged by their leaders to flee”—as opposed to them being expelled by the Zionist forces. ', ' it was the shift from sporadic attacks and counter-attacks on the Palestinian civilian population towards the systematic mega-operation of ethnic cleansing that now followed. [70] ', ' and traffic and planted bombs and mines along urban and rural paths and roads.” He describes “several days of sniping and Haganah responses in kind”—a typical example of how he characterizes the Haganah’s violence as occurring in self-defense or as retaliation for earlier Arab attacks he identifies as having initiated any given round of fighting. [63] ', ' but the other nationalities which are now under Turkish rule should be assured an undoubted security of life and absolutely unmolested opportunity of autonomous development.” [39] ', ' a nation that could benefit immensely from female influence at the helm.', ' c. 1925 (from the G. Eric and Edith Matson Photograph Collection at the Library of Congress ) The Zionist Mandate for Palestine ', ' but a Jewish predominance as soon as the numbers of that race are sufficiently increased.” [27] ', ' this was by no means a “mistake”. ', ' Morris writes. ', ' then the Jews would “have to talk to them in a different language” and might be “compelled to use force” to realize their goals. [17] ', ' while denying it any employment in our own country. Both the process of expropriation and the removal of the poor must be carried out discreetly and circumspectly.” [11] ', ' and which he documents extensively in his own writings—was not a crime. ', ' and the BA kept finding more and more crucial functionality that would be required if anyone was going to be interested in purchasing the thing. The general feeling of the project team matched the immortal words of Sonic the Hedgehog: \"\"We\\'re not going to make it. Let\\'s speed up!\"\" ', ' 2016 / POLITICS / A focus group of 23 people put together by CBS News revealed a frightening look at what America has become – a divided nation. ', ' 5+1 talks have begun already for an agreement on trade and economic cooperation between all participants in the process. ', ' was everything hit on every level and every aspect. ', ' and you accepted it. ', ' and security in Europe would be jeopardised in a big way. ', ' giving them the seven days they asked for. ', ' which was not done. ', ' and put forward new initiatives and recommendations that will help us find the way to the more prosperous and sustainable future that we all badly need. ', ' but there is no global result and the terrorist threat continues to grow. ', ' so we decided to implement exception handling.\"\" ', ' if there is any. ', ' are constantly being distorted and we often see what only yesterday was taken as a truth and raised to dogma status reversed completely. ', ' and not for all. But far from everyone was ready to agree with this. ', ' 2016. ', ' y el Grupo de Acción Financiera sobre el Blanqueo de Capitales.', ' la OTSC contribuye activamente a las iniciativas internacionales encaminadas a la reconstrucción del Afganistán. La OTSC contribuye activamente a los esfuerzos internacionales para la reconstrucción del Afganistán y a la lucha contra la amenaza de las drogas provenientes del territorio de ese país.', ' even IF they claim to be the party you’ve supported your whole life. P>Hopkins ', ' whereas Clinton’s biggest Dem detractors are caller HER a NeoConservative because of her seemingly right-leaning agendas for the last couple decades. GV ', '394 shares. ', ' he tried to kiss me.’ ” ', ' we let them come with their guns. We had vehicles ready for them with covered windows so that no one could shoot at them. I told them which road to use to come out. They were checked by our people in case they carried booby traps. We could see them but the two men could not see our soldiers. ', ' white and red of Syria and the green white and red of Iran. ', '000 civilians in eastern Aleppo. ', ' and they felt immensely better on the other side — better than they’d felt in years.', ' your body is simply too well-equipped to address foreign invaders and can easily clean out minor toxic exposures.', '” who is featured in the film:', ' “the mainstream is worried that the political parties will realize that the ‘bring the war dollars home’ message can win a national election and disrupt the comfortable revolving-door consensus.” ', ' $19 trillion. @dcexaminer https://t.co/E0fRIXK1N2 ', ' Cohen promised she would have “the last laugh on these thugs.” . @ClydeStones she deserves to be treated with dignity and compassion. ', ' to tech mobile startups. ', ' without any delay.” Recommended ', ' it is impossible to solve any other problems. ', ' the autonomous region is locked in struggle with Baghdad over territorial claims and control over oil fields. ', ' and a 78-year-old woman. ', ' both participants hit on many good points that were missed due to their personalities.', ' who cares? ', ' asking the then-president to “simply deny it.” Same answer: “My attorney … speaks for me.” And that was that. ', ' nothing sufficient to unwind the tremendous debt burden.', ' manufactured in China under the Soviet license. ', ' ten years later. ', ' should net you all the iodine you need for the day. ', ' which is equivalent to 29.7 barrels of crude oil. This is just one example of why gold is good money. It is money that protects your hard earned purchasing power. ', ' have been disproved so many times by history that it is strange that they are still in use. ', ' just as elective institutions in present-day Iran are. ', ' who expressed their opinions to Congress and the president. Anticipating Regeneration ', ' one which still is ongoing; all of it feels surreally fresh. ', ' another fresh post-2012 low. ', ' deniz ve hava güçlerinin %60’ını bu bölgede yoğunlaştıracağını duyurdu.', ' asli olarak ABD stratejisine tabi durumdadır.', ' but which always serves to contain it....There is in due process something lofty and unambiguous which forces judges to act respectably and follow a just and orderly course. ', ' keep the powder dry and your eyes on the horizon! JJ out. ', ' said corrupt individual is outed for presenting these scam deals and yet.... and yet the soldiers defending this country are made to pay for it?', ' I panicked. I had been raised in a home swirling with soft fluidity of being. ', ' “we the people” are the government. ', ' which means their tide might actually turn. Final Thoughts ', ' and exercising with hand grips. Anyone have any other ideas? Matthew Smith ', ' so-called self-help gurus and pretty much anyone who is connected to the oligarchical families that are orchestrating the grand plan of global governance. ', '” which resulted in them walking out of the restaurant. When officers have to fear what is being put in their food there can be no doubt that the war on police is a full-scale epidemic. ', ' protests and tweets increase after officers are murdered signifying that violence against cops is celebrated and glorified. ', ' in media and in every aspect of American culture. ', ' newspapers and every agency created for the public protection. ( source )( source )', ' and guilt will add at least ten years to your life expectancy. ', ' frankly.” ', ' and it fits with the Israeli mindset as well. ', ' they seem quite capable of it. ', ' the Russians are not coming. Another comforting thought is that there is nothing here worth nuking. It is a benefit of staying out of NATO.', ' bars and discos.', ' and restaurants and shopping centers are usually within a walk or a short bus ride.', ' Transportation and Possession of Firearms and Ammunition by an Organized Group”). Article 105 carries a punishment of up to life imprisonment. ', ' Tamerlan Eskerkhanov and Khamzat Bakhayev. ', ' talked naughty to. Like we liked it. We didn’t. We’re tired of it.” ', ' our opposition to abortion is a logical outgrowth of our view that there must be justice for all. ', ' maybe you shouldn’t be the surrogate out there wagging your finger and accusing the woman who was reporting on sexual assault — let me explain it slowly — sexual assault and sex are two things. One is unwanted. One is wanted. So maybe they need to understand that to begin with.” ', ' 59.2 percent were targeted because of a race/ethnicity/ancestry bias; 19.7 percent because of a religious bias; 17.7 percent because of a sexual-orientation bias; 1.7 percent because of a gender-identity bias; 1.2 percent because of a disability bias; and 0.4 percent because of a gender bias.” ', ' says life on the run ‘got too much’ By 0 157 ', \" ‘Why am I feeling this? What’s resonating within me?'”\", ' which put tens of thousands of coal miners out of work. ', ' and our reckless spending has created the biggest debt bubble in the history of the planet . Something must be done or else we will continue to steamroll toward economic oblivion. So is Donald Trump the man for the hour? ', ' 2016 at 12:42pm EDT ', ' and our dystopian future. ', ' - сказал глава государства. ', ' quick visual of gold and silver in all time frames. ', '” confronts the pillaging and plundering of the Earth quite boldly.', ' lawmakers or national governments.', ' the Temple was burned to the ground as it remains to this very day. ', ' because this was not being accounted for. ', ' Sīrius B ', ' pun intended. What the Dog people believe explains how the Holographic Universe works and gives a dissertation of the rock carving in Australia’s Blue Mountains; almost seven thousand miles from the eastern coastline of Africa… ', ' against our children in the delusional belief that it will give us obedience and hence social control.', ' see \\x91Nisteling: The Art of Deep Listening\\x92 which is referenced in \\x91My Promise to Children\\x92. https://nonviolentstrategy.wordpress.com/strategywheel/constructive-program/my-promise-to-children/', ' no one had ever done that study—until this study out of Ecuador. ', ' \"\"It is not in my nature to scold someone -- but when the United States unilaterally withdrew from the ABM Treaty (in) 1972 they delivered a colossal blow to the entire system of international security. That was the first blow when it comes to assessing the strategic balance of power in the world\"\".', ' did actually support Hitler. Money is all that matters to them. jaxon64 ', ' inspired and in-joy the experience. Just the recognition gives you the ability to choose where you are going to focus your energy and attention for what you experience here. ', ' 2016 by Martha Rosenberg ', ' making a Red Dawn scenario a near certainty.', ' but not with Obama at the helm.', ' with that attack.” ', ' Pa.” ', ' Iraq. ', ' I want reformation. But sometimes reformation comes through bloodshed.” ', ' it will be done.” ', ' было оформлено на подставных лиц. О \"\"находке\"\" рассказал депутат Верховной рады Сергей Лещенко. ', '8 м. кв.). ', ' а третья - в Виннице (78 м. кв.) ', ' you will notice a connection that points perhaps towards an ancient ‘code’ embedded within these structures.', ' those ‘certain areas’ are exclusively communities in which large minority voting populations reside.” ', ' and his outsider primaries campaign.', ' the Secret Service decided to skip the bubble top. ', ' and orgasm disorders; male infertility and/or poor seminal quality” that continues after discontinuation of treatment. ', ' rest assured that rape will largely be the end result. ', '000 people in 39 countries. ', ' and Russians. The Ukrainians have launched a domino effect whose consequences will be felt across all of Europe.  ', ' also includes debt repayment and other sundry items that drain cash. We won’t know the full extent of these items until the 10Q is released. ', ' years ago? ', ' this approach has the desirable effect of pre-committing those limited partners. ', ' I would not do it again. I would try to figure another way.” ', ' I’d bet you they’d change their mind. ', ' which “likened the Republican response to the opioid crisis to ‘using a piece of chewing gum to patch a cracked dam.’” ', ' and demand that its historical debts be paid off. ', ' probably actually controlling the winner in as many as 25 percent of the national elections of the world. ', ' despite US objections ', ' and you have a plan that wants to help people.” ', ' reprezentowani przez Donalda Trumpa [ 7 ]. Agresywny charakter tej kampanii świadczy o konieczności przywrócenia równowagi między tymi siłami po okresie niepodzielnej dominacji militarystów (od 1995 r.).', ' oraz podziału Dalekiego Wschodu na ASEAN i Chiny – działają one całkowicie zgodnie. Jakie są cele polityki zagranicznej USA i czy można przewidzieć ową politykę?', ' there’s no way for anyone to compensate what Google just told you. ', ' another perspective from another magazine. ', ' the more resistance they faced from those groups who wanted to preserve their independence. ', ' connect with others if you need to…. ', ' then the Syrian territorial integrity will be jeopardized. ', ' where they trained for “disaster relief operations” in a series of joint exercises.', ' not written on the textual level). May the God of the Holy Bible lead you to the Truth. Abba Father. Amen. Donna ', ' so its going to happen bc God said it will…. SaveUSA ', ' NOT THE OVAL OFFICE ', ' destroy the only home we have. Much of that willing disbelief is founded on a welll orchestrated propaganda campagn carried out by the fossil fuel industry and the owners of it such as the Koch Brothers. The video below examines this decades long campaign that has been waged to lead a willing populace to the graveyard of humanity. ', ' but they said enough. They want change.”', ' grab all the gifts perfectly surrounded by a Christmas tree and they are out the door faster than you can blink. Here are some facts to gain a better perspective on what you are facing:', ' he said. ', ' Mike Barrett. ', ' pure space of Consciousness. ', ' individual world view and methods of action. ', ' we may experience an entirely different state of Consciousness. You Live in a Separate World ', ' 2016 by Doug P. ', ' but that’s another story. ', ' and not be restricted by any statute of limitations. ', ' and I am not an expert what is really going on in Mosul there will be as few as possible civil causalities. ', ' etc. But I know you will persist because Islam promotes illogic to attempt to prevail and conquer. ali ', ' and wondering what happened to good ole 1849. Anonymous ', ' via true Christianity. We were a thorn in his side back then and still are. ', ' are not possible.', ' the Oligarchy still exists and is still powerful. ', ' 2015. National Security Advisor Susan E. Rice listens at left. (Official White House Photo by Pete Souza) ', ' and a framework for a political settlement based on giving the Donetsk and Luhansk regions a “special status.” ', ' чтобы во всех сферах жизнь стала немножечко лучше. ', ' что также создает избыток кислорода в этом месте. ', ' сильные энергии. ', ' it is EU law and will certainly be the instrument of choice by the unelected Eurogroup when the next banking crisis hits.', ' and have the testimony of Jesus Christ.” ', ' while a stronger currency supports consumption of foreign goods .\\x94', '\\x94 mostly US-based.', ' Clinton either. I’ve heard enough of both of them the past several weeks. Trump/Clinton neither one as I see it. Neither one are my savior either. Take care again Bill. God Bless. Deplorable Twister Jones ', ' by the vote of one Supreme Court justice. “ mtntrek3 ', ' something could happen next week for all we know. Lazarovic ', ' God no longer exists. Lazarovic ', ' we have made sure there will be no other forces but the SDF in the operation.” ', '” the Turkish head of state said in an interview to Second Israeli TV channel. ', '000). So tax increases — or reduced services in other areas — are predicted. ', ' we know that this global culture has come to a turning point. ', ' I recognize my neighbor by the color and model of their passing car. We can usually gauge a person’s income by the model of their car. ', ' the FBI said:', ' and other than a big mess and no elec. for a few days … no damage done. Good luck to you all. Paschall ', ' etc. Good luck everybody. DJ ', ' but not as cold as other places. Judith ', ' not a bad option. ', ' elected officials will impose necessary privacy safeguards. ', ' in part to better understand how and why police kept such a massive spying database secret for so long. ', ' bookmarks and all the rest to the Google central servers. In the US of A. Last time I read about it few years ago that Google has a data centre consisting of 4 ACRES of computers. ', ' even though most people regret it.’ ', ' apparatchiks and assorted toadies in the organs of governance and in the big-money private sector and philanthro-capitalist dynasties of pay-to-play foundations. ', ' and total caloric intake. The results showed beneficial effects on LDL cholesterol and triglyceride levels as well as diastolic blood pressure. ', ' another $9 million will fund programs that provide both citizenship instruction and instruction and naturalization application services.” Some might consider this a cash giveaway.[…]', ' they’re known as “citizenship integration grants.”[…]', ' who faces charges of abuse of power and attempted extortion. An was already in custody under an emergency detention order. ', ' где ей эту спираль установят бесплатно. ', ' - отметил врач в комментарии Pravda.Ru. ', ' in the case against Hillary Clinton? ', ' absolutely know that things are different and the shift is here and there’s a chance that humanity will pull out of this faster than you know. ', ' gun owners are minorities as well. Watch here. ', ' manageable way. 2. Those who provided us with this information would be able to find safety before these releases were made (this concern wasn’t without warrant). ', ' she would have allegedly used that instead. ', ' a state congressional panel in Idaho rejected a proposal to allow CBD (non-psycho active cannabidiol) for children with seizures. ', ' says top Democrat The Democratic leader in the US Senate says the head of the FBI may have broken the law by revealing the bureau was investigating emails possibly linked to Hillary Clinton. ', ' I wanted to give you the most profound thing first. ', ' I’m telling you something that involves the whole planet. But the old souls are the graduates. You have most of the experience; you have profound consciousness that can change energy. ', ' this is really intolerable. It means that [they] are trying to get at a publishing organisation; they try and prevent it from publishing true information that is of intense interest to the American people and others about an election. ', ' what if you’re already doing it? ', ' what’s the synchronicity? ', ' etc). There’s monopoly power when government prohibits or restricts competition in a sector of […]', ' не платят никаких налогов с доходов своих депозитов. Так больше делать нигде нельзя\"\". ', ' you are likely sick and tired of the outright corruption prevalent in every aspect of the system.', ' intricate diplomatic undertaking that could result in the trade of Gross for the “Cuban Five” as a gesture of good will. This would be a necessary step towards ending the outdated U.S. embargo on Cuba and a new era in relations between the U.S. and Cuba. ', ' ethical   we live in. Building a movement based on communities of trust would not only be a genuine alternative to the fascist threat emerging everywhere; it may also set the foundations for the new global culture we as humanity need in order to have a future worth living on this planet. November 9th is a day of both despair and hope. In 1989 it was the day the Berlin Wall was opened. This year it can be a day for opening the wall of despair—exercised by people who find their determination to collaborate for a world of solidarity and trust. ', ' el presidente Vladímir Putin construyó junto con su homólogo Xi Jinping una poderosa alianza financiera que busca terminar de una vez por todas con la dominación de la divisa estadounidense.', ' and protection from event security and the Secret Service. ', ' para el Departamento del Tesoro es un asunto de vida o muerte vender títulos de deuda a todo el mundo para de esta manera poder financiar los gastos del Estado norteamericano.', ' that these trade \\x91deals\\x92 are Europe\\x92s historically deserved heritage.', ' then tackle the other issues. First comes first. A true intellectual left would have to understand that \\x96 and not bend to the presstitute promoted clichés.', ' accompanied by a series of signs with offensive slogans like “God Hates Fags.” ', ' would fill city size of Orlando Published: 1 min ago ', ' ignoring non-violent resistance like the current strike. Kumars and Roqayah discuss this point and brainstorm ways to get around this sad reality.', ' and undoubtedly many more.', ' which brought spurious charges of rape against him \\x97 demonstrate the length the ruling elites will go to suppress the truth.', ' down. ', ' organized by the MIA Russia Today. ', ' to defend her is helpful. They can be emboldened. Fwiw – I pushed pir to do this a yr ago.” ', ' supporting and assisting Donald Trump and has been for at least five years. The spy said the response from the FBI was \"\"shock and horror.\"\" Share on Twitter Print This Post ', ' liberal Obama. ', ' Ivory Tower War Hawk who is in line for Hillary Goldman Clinton’s state department. . Leopold B. Scotch ', ' they ought to just register as Democrats and make it official. Nobody anymore is buying the snake oil they’re selling. The Dems can have ’em! iris ', ' I didn’t wanna win anyway”. The man is beyond transparent. ', ' let\\x92s put in a grain of optimism and \\x91bank\\x92 on a positive strand of dynamics fueled by an increasing human consciousness \\x96 one that would not allow Hillary to push the Death Button.', ' she was confused about whether she needed to board the awaiting plane or get in the motorcade that had just dropped her off. ', \" it isn't too difficult to assume what another four years of Clinton rule will bring in the realm of policing and prisons.\", ' according to The Post : ', ' conceptually and methodologically. ', ' the stuff wasn’t moving. We need more spot checks everywhere. ', ' and together are the only forms of politics permitted by elites . See the next link. ', ' but CCHF is relentless and above all they don’t make stuff up. ', ' Trump says he is concerned with the absence of careers for those very people protesting in the streets of 25 cities against him. ', ' is destroying the reputation of all progressives by circulating a petition that directs the electors of the Electoral Collage to annul the election by casting their votes for Hillary. Remember how upset progressives were when Trump said he might not accept the election result if there was evidence that the vote was rigged? Now progressives are doing what they damned Trump for saying he might do under certain conditions. ', ' collects cell phone data. ', ' in a startling scene that was not immediately explained. ', ' and I believe he should bring his deputies home if he hasn’t already.” ', ' it becomes “reality” for them. ', ' you have neutral soil – congrats! ', ' that he can withstand his compulsion to negatively influence a favorable news cycle as he’s been prone to do. Then there’s the matter of Trump’s emerging Evan McMullin headache in Utah. ', \" Eucharistic intercommunion seems to be the main desire for Lutheran and Catholic leaders. There doesn't seem to be much talk about whether married homosexual couples will be taking communion together at the Catholic Church. It is after all a legitimate concern for many considering the position of both Catholics and Lutherans on the issue. Donate Today! Support TRUNEWS to help build a global news network that provides a credible source for world news \", ' has himself elicited the excitement by suggesting that intercommunion is a possibility. ', '500 years ago. ', ' 2016 0 0 ', ' it’s an abuse of power. ', ' hauling out boxes of documents and computers in front of television cameras. ', ' as it’s better for you and will be less prone to burst on a fall or impact. Here is a good list to follow .', ' and the companies reported they have needed extra staff to take care of the purchases.', ' направленных на избирательные системы за рубежом. ', ' (source above).', ' and notification made to the — the citizens that have said service lines. ', ' it means they want him to be killed.” ', '” don’t expect to hear a peep from the liberal media. ', ' Russian pundits see the unwillingness of Georgia to vote for the PACE resolution as a sign of improvement in Tbilisi-Moscow relations. ', ' has inexplicably refused to answer the lawmakers’ queries. ', ' during all the drama there are clear proposals from both Clinton and Trump on several concerns.', ' for the whole world to see. ', '869.58 . ', ' a French senator and member of the National Commission for Information Technology and Civil Liberties (Cnil) who likened the TES to a “sort of monster.” ', ' because it’s evil to think that there are large differences between a German businessman in a Hugo Boss suit and a Tutsi villager with a lip plate the size of a grapefruit.', ' authored by a woman who is embarking on her second divorce .', ' чтобы получить полное оправдание. ', ' and Pennsylvania may have been manipulated or hacked. The group is so far not speaking on the record about their findings and is focused on lobbying the Clinton team in private.', '” Podesta said Sunday on CNN’s “State of the Union.” ', ' readdressed Sana’s question to her. ', ' BBC and others.” Delivered by The Daily Sheeple ', ' blew the lid off the Trump organization’s brewing pot of racist practices. ', ' Trump had relocated to Germany in order to avoid both tax and military-service obligations. ', ' Yukon. ', ' making them a minority now.', ' he purportedly called her a \\x93spoiled brat kid.\\x94', ' 2015. The Russian specialists on Arab studies from IVRAN say they proved that The Daily Express simply provided unverified information from the local opposition activists. ', ' as they are about to experience the underworld in overworld. ', ' intentional falsifications on the side of the Western media reports about Syria. ', ' and he wants a trade war with China. I could go on with a litany of fatal “policies” (actually more like wicked quips) all the way down the page (and blog pages don’t really have a fixed bottom). All this is not to mention his criminal notion that he has a right to French kiss and fondle any woman he can get hold of with his tiny hands. ', ' George Soros Just Got The Worst News Of His Life! Related Articles WOW – NBC Host Posts MISLEADING Headline…This Is EMBARRASSING! 1 day ago 1 day ago ', ' people having oodles of time to post on facebook during the incident? Even the nightclubs webpage has time to update to get out of the club and keep running?? LMFAO ', ' and they were being fired upon.” ', ' you need a least a kernel of truth. They have literally zero facts on their side to work with. ', ' I’m advised by the establishment narrative to use emotion for the biggest decision of them all.', ' but also owing to the blind eye that police and prosecutor turned to the plain evidence of white culprits. ', '\"\" five of the dissenters passionately protested that the district court had not complied with the circuit\\'s prior injunction to have a conclusive blood test performed. ', ' Republican Rep. Rick Becker claimed he is not happy with how the law turned out. ', ' a document that serves everyone equitably and equally when administered as the Framers intended. ', ' standing up on behalf of our rights as Americans.” ', ' serving the people. ', '” of which John Adams spoke. ', ' these courageous words by Thoreau : “I was not designed to be forced. I will breathe after my own fashion. Let us see who is the strongest.” Read more articles by Gary ‘Z’ McGee . About the Author ', ' and tear gas canisters are known to cause horrible injuries and are often times used on non-violent civilians and protestors. ', ' Team Hillary.', ' even though Clinton said she disclosed them all. It’s goin’ down. Right now.', ' she could be forced from office. ', ' will become irresistible. ', ' as it denies the concept that Jews have pushed in their media since they founded Hollywood that “the ends never justify the means” and unrepentantly shows its hero – a masculine blue-eyed White male – justifying the most violent of means to the end of protecting his people. ', ' and Hillary boasts of how proud she will be to continue Obama’s legacy! ', ' any serious reform legislation could be expected to be struck down by a court whose majority will view its role as policy-making rather than upholding the Constitution. I could add the catastrophic impact of her “open borders” program that has devastated Europe and her intention to further increase taxes and regulatory burdens that could deal a knock-out blow to our faltering economy. ', ' and I never thought that the F.B.I. could be dragged into a political circus surrounding one of its investigations. Until this week. ', ' which is to say grievances against Clintonism? ', ' impartiality and competence” of judges. He has also served as a member of a seven-person EU panel that helps select judges and advocates-general of the European Court of Justice and General Court. ', '” accused the newspaper of putting a negative connotation on her words.', ' seven airstrike-resistant bunkers and three Dushka heavy machine guns were destroyed. ', ' to stop selling it.', ' solar is not going to help. ', ' but booze is booze even if it comes from the US the Scots say! ', ' so it is likely that he is leading in Florida so far. ', ' is in the tank for the crooked Democrats. Terry ', '000 from police and Popular Mobilization Units. ', ' a private-equity company.” ', ' fair-minded people who also have a nagging sense that the country is changing in unwelcome ways. ', ' told Tina Hesman Saey at Science News.', ' and then deliver that data to all proposed credit tracking agencies. ', ' 2016 Louis C.K. Just Gave The Best Assessment Of The 2016 Election Yet – And He’s With Her (VIDEO)   ', ' and of the end of the world?” ', ' the same is a thief and a robber.” ', ' if the goal was reducing costs and increasing access to health care. Artificially increasing demand relative to supply can only have the opposite effects. ', ' the homeless black woman is getting much-deserved justice. A black homeless woman was beaten up by Hillary thugs for protecting Donald Trump’s “star”& supporting him in this election. ']\n"
          ]
        }
      ]
    },
    {
      "cell_type": "code",
      "source": [
        "print (X_train.shape)\n",
        "print (y_train.shape)\n",
        "print (X_test.shape)\n",
        "print (y_test.shape)"
      ],
      "metadata": {
        "id": "5yBQMPA8t-r9",
        "colab": {
          "base_uri": "https://localhost:8080/"
        },
        "outputId": "2433b8b9-6f7d-4fbc-95f3-ff64a1f9d627"
      },
      "execution_count": 19,
      "outputs": [
        {
          "output_type": "stream",
          "name": "stdout",
          "text": [
            "(24862, 1)\n",
            "(24862,)\n",
            "(10656, 1)\n",
            "(10656,)\n"
          ]
        }
      ]
    },
    {
      "cell_type": "code",
      "source": [
        "from sklearn.feature_extraction.text import TfidfVectorizer"
      ],
      "metadata": {
        "id": "1oC21A1VvVmx"
      },
      "execution_count": 20,
      "outputs": []
    },
    {
      "cell_type": "code",
      "source": [
        "tfidf_vect = TfidfVectorizer(analyzer='word', token_pattern=r'\\w{1,}', max_features=5000)\n",
        "tfidf_vect.fit(data['content'])\n",
        "xtrain_tfidf = tfidf_vect.transform(X_train['content'])\n",
        "xtest_tfidf = tfidf_vect.transform(X_test['content'])"
      ],
      "metadata": {
        "id": "zceDDsMmvWTg"
      },
      "execution_count": 21,
      "outputs": []
    },
    {
      "cell_type": "code",
      "source": [
        "from sklearn.linear_model import PassiveAggressiveClassifier\n",
        "from sklearn import metrics\n",
        "pclf = PassiveAggressiveClassifier()\n",
        "pclf.fit(xtrain_tfidf, y_train)\n",
        "predictions = pclf.predict(xtest_tfidf)\n",
        "print(metrics.classification_report(y_test, predictions))"
      ],
      "metadata": {
        "colab": {
          "base_uri": "https://localhost:8080/"
        },
        "id": "KYtRF9c0CRvi",
        "outputId": "ffb1fb39-116b-4235-cc5a-2f4ceb127ec5"
      },
      "execution_count": 22,
      "outputs": [
        {
          "output_type": "stream",
          "name": "stderr",
          "text": [
            "/usr/local/lib/python3.11/dist-packages/sklearn/metrics/_classification.py:1565: UndefinedMetricWarning: Precision is ill-defined and being set to 0.0 in labels with no predicted samples. Use `zero_division` parameter to control this behavior.\n",
            "  _warn_prf(average, modifier, f\"{metric.capitalize()} is\", len(result))\n",
            "/usr/local/lib/python3.11/dist-packages/sklearn/metrics/_classification.py:1565: UndefinedMetricWarning: Recall is ill-defined and being set to 0.0 in labels with no true samples. Use `zero_division` parameter to control this behavior.\n",
            "  _warn_prf(average, modifier, f\"{metric.capitalize()} is\", len(result))\n",
            "/usr/local/lib/python3.11/dist-packages/sklearn/metrics/_classification.py:1565: UndefinedMetricWarning: Precision is ill-defined and being set to 0.0 in labels with no predicted samples. Use `zero_division` parameter to control this behavior.\n",
            "  _warn_prf(average, modifier, f\"{metric.capitalize()} is\", len(result))\n",
            "/usr/local/lib/python3.11/dist-packages/sklearn/metrics/_classification.py:1565: UndefinedMetricWarning: Recall is ill-defined and being set to 0.0 in labels with no true samples. Use `zero_division` parameter to control this behavior.\n",
            "  _warn_prf(average, modifier, f\"{metric.capitalize()} is\", len(result))\n"
          ]
        },
        {
          "output_type": "stream",
          "name": "stdout",
          "text": [
            "                                                                                                                                                                              precision    recall  f1-score   support\n",
            "\n",
            "                                                                                                                                                                                   0.99      1.00      1.00     10575\n",
            "                                                                                                                                                                       2010        1.00      1.00      1.00         1\n",
            "                                                                                                                                                                      2015.        0.00      0.00      0.00         1\n",
            "                                                                                                                                                                       2016        0.75      0.33      0.46         9\n",
            "                                                                                                                                                                   2016 6 0        0.00      0.00      0.00         1\n",
            "                                                                                                                                                              2016 Comments        0.00      0.00      0.00         1\n",
            "                                                                                                                                                         2016 Previous post        0.00      0.00      0.00         1\n",
            "                                                                                                                                                            2016 Share This        1.00      1.00      1.00         1\n",
            "                                                                                                                                                             2016 Subscribe        0.00      0.00      0.00         1\n",
            "                                                                                                                                 2016 by Robert Rich in Politics Share This        0.00      0.00      0.00         1\n",
            "                                                                                                                                                   2016. (Photo by Reuters)        0.00      0.00      0.00         1\n",
            "                                               The New York Times noted that the Podesta Group provided the newspaper with a Saudi commentator who defended the execution.”        0.00      0.00      0.00         0\n",
            "                                      and bringing up the rear with the correct answer of global warming as the greatest threat were a grand total of 4.6% of those polled.        1.00      1.00      1.00         1\n",
            "                                  and rigged a missile-defense test so that an interceptor could easily home in on a target. War is first and foremost a profitable racket.        1.00      1.00      1.00         1\n",
            "                                                                                                                             and that this comeback will benefit the ruble.        1.00      1.00      1.00         1\n",
            "                                                                                                       and the loss of farmland just adds to food insecurity in the nation.        1.00      1.00      1.00         1\n",
            "                                                                                                                                       and the sacred honor of our country.        1.00      1.00      1.00         1\n",
            "                                                                                                                                             are backing her — and the TPP.        1.00      1.00      1.00         1\n",
            "                                                                                                                                     as is the MPAA’s political foundation.        1.00      1.00      1.00         1\n",
            " continue to advocate to governments around the world about the pressing need for strong pro-IP trade policies such as TPP and the proposed EU/US trade agreement (TTIP). ”        1.00      1.00      1.00         1\n",
            "                                                                                                                                                                       etc.        0.00      0.00      0.00         1\n",
            "                                                                                                                     even though I ended up by some crazy thing to be one.”        1.00      1.00      1.00         1\n",
            "                                                                                                                        hoping to wait it out until the protestors give up.        1.00      1.00      1.00         1\n",
            "                           not entirely unlike what you might fantasize media news reports would be in a magical world in which media outlets gave a damn about human life.        1.00      1.00      1.00         1\n",
            "                                                                                                                                                    or the American people.        1.00      1.00      1.00         1\n",
            "                                                                                                                                              particularly to Saudi Arabia.        1.00      1.00      1.00         1\n",
            "                                                                                                                                     thoughtful human beings I’d ever met.”        0.00      0.00      0.00         0\n",
            "                                                                        to compile reports that advance policies inimical to the real-life concerns of the American people.        1.00      1.00      1.00         1\n",
            "                                                                                                                       000 his or her subsidy would be significantly lower.        1.00      1.00      1.00         1\n",
            "                                                                                                                                                                           1       0.25      0.09      0.13        47\n",
            "\n",
            "                                                                                                                                                                    accuracy                           0.99     10656\n",
            "                                                                                                                                                                   macro avg       0.63      0.61      0.62     10656\n",
            "                                                                                                                                                                weighted avg       0.99      0.99      0.99     10656\n",
            "\n"
          ]
        },
        {
          "output_type": "stream",
          "name": "stderr",
          "text": [
            "/usr/local/lib/python3.11/dist-packages/sklearn/metrics/_classification.py:1565: UndefinedMetricWarning: Precision is ill-defined and being set to 0.0 in labels with no predicted samples. Use `zero_division` parameter to control this behavior.\n",
            "  _warn_prf(average, modifier, f\"{metric.capitalize()} is\", len(result))\n",
            "/usr/local/lib/python3.11/dist-packages/sklearn/metrics/_classification.py:1565: UndefinedMetricWarning: Recall is ill-defined and being set to 0.0 in labels with no true samples. Use `zero_division` parameter to control this behavior.\n",
            "  _warn_prf(average, modifier, f\"{metric.capitalize()} is\", len(result))\n"
          ]
        }
      ]
    },
    {
      "cell_type": "code",
      "source": [
        "print(metrics.confusion_matrix(y_test,predictions))"
      ],
      "metadata": {
        "colab": {
          "base_uri": "https://localhost:8080/"
        },
        "id": "dZYDhHBSEHgH",
        "outputId": "de2c6f13-d006-47b8-fc64-33c16980d1e7"
      },
      "execution_count": 24,
      "outputs": [
        {
          "output_type": "stream",
          "name": "stdout",
          "text": [
            "[[10559     0     0     1     0     0     0     0     0     0     0     1\n",
            "      0     0     0     0     0     0     0     0     0     0     0     0\n",
            "      0     0     2     0     0    12]\n",
            " [    0     1     0     0     0     0     0     0     0     0     0     0\n",
            "      0     0     0     0     0     0     0     0     0     0     0     0\n",
            "      0     0     0     0     0     0]\n",
            " [    1     0     0     0     0     0     0     0     0     0     0     0\n",
            "      0     0     0     0     0     0     0     0     0     0     0     0\n",
            "      0     0     0     0     0     0]\n",
            " [    6     0     0     3     0     0     0     0     0     0     0     0\n",
            "      0     0     0     0     0     0     0     0     0     0     0     0\n",
            "      0     0     0     0     0     0]\n",
            " [    1     0     0     0     0     0     0     0     0     0     0     0\n",
            "      0     0     0     0     0     0     0     0     0     0     0     0\n",
            "      0     0     0     0     0     0]\n",
            " [    1     0     0     0     0     0     0     0     0     0     0     0\n",
            "      0     0     0     0     0     0     0     0     0     0     0     0\n",
            "      0     0     0     0     0     0]\n",
            " [    1     0     0     0     0     0     0     0     0     0     0     0\n",
            "      0     0     0     0     0     0     0     0     0     0     0     0\n",
            "      0     0     0     0     0     0]\n",
            " [    0     0     0     0     0     0     0     1     0     0     0     0\n",
            "      0     0     0     0     0     0     0     0     0     0     0     0\n",
            "      0     0     0     0     0     0]\n",
            " [    1     0     0     0     0     0     0     0     0     0     0     0\n",
            "      0     0     0     0     0     0     0     0     0     0     0     0\n",
            "      0     0     0     0     0     0]\n",
            " [    1     0     0     0     0     0     0     0     0     0     0     0\n",
            "      0     0     0     0     0     0     0     0     0     0     0     0\n",
            "      0     0     0     0     0     0]\n",
            " [    1     0     0     0     0     0     0     0     0     0     0     0\n",
            "      0     0     0     0     0     0     0     0     0     0     0     0\n",
            "      0     0     0     0     0     0]\n",
            " [    0     0     0     0     0     0     0     0     0     0     0     0\n",
            "      0     0     0     0     0     0     0     0     0     0     0     0\n",
            "      0     0     0     0     0     0]\n",
            " [    0     0     0     0     0     0     0     0     0     0     0     0\n",
            "      1     0     0     0     0     0     0     0     0     0     0     0\n",
            "      0     0     0     0     0     0]\n",
            " [    0     0     0     0     0     0     0     0     0     0     0     0\n",
            "      0     1     0     0     0     0     0     0     0     0     0     0\n",
            "      0     0     0     0     0     0]\n",
            " [    0     0     0     0     0     0     0     0     0     0     0     0\n",
            "      0     0     1     0     0     0     0     0     0     0     0     0\n",
            "      0     0     0     0     0     0]\n",
            " [    0     0     0     0     0     0     0     0     0     0     0     0\n",
            "      0     0     0     1     0     0     0     0     0     0     0     0\n",
            "      0     0     0     0     0     0]\n",
            " [    0     0     0     0     0     0     0     0     0     0     0     0\n",
            "      0     0     0     0     1     0     0     0     0     0     0     0\n",
            "      0     0     0     0     0     0]\n",
            " [    0     0     0     0     0     0     0     0     0     0     0     0\n",
            "      0     0     0     0     0     1     0     0     0     0     0     0\n",
            "      0     0     0     0     0     0]\n",
            " [    0     0     0     0     0     0     0     0     0     0     0     0\n",
            "      0     0     0     0     0     0     1     0     0     0     0     0\n",
            "      0     0     0     0     0     0]\n",
            " [    0     0     0     0     0     0     0     0     0     0     0     0\n",
            "      0     0     0     0     0     0     0     1     0     0     0     0\n",
            "      0     0     0     0     0     0]\n",
            " [    1     0     0     0     0     0     0     0     0     0     0     0\n",
            "      0     0     0     0     0     0     0     0     0     0     0     0\n",
            "      0     0     0     0     0     0]\n",
            " [    0     0     0     0     0     0     0     0     0     0     0     0\n",
            "      0     0     0     0     0     0     0     0     0     1     0     0\n",
            "      0     0     0     0     0     0]\n",
            " [    0     0     0     0     0     0     0     0     0     0     0     0\n",
            "      0     0     0     0     0     0     0     0     0     0     1     0\n",
            "      0     0     0     0     0     0]\n",
            " [    0     0     0     0     0     0     0     0     0     0     0     0\n",
            "      0     0     0     0     0     0     0     0     0     0     0     1\n",
            "      0     0     0     0     0     0]\n",
            " [    0     0     0     0     0     0     0     0     0     0     0     0\n",
            "      0     0     0     0     0     0     0     0     0     0     0     0\n",
            "      1     0     0     0     0     0]\n",
            " [    0     0     0     0     0     0     0     0     0     0     0     0\n",
            "      0     0     0     0     0     0     0     0     0     0     0     0\n",
            "      0     1     0     0     0     0]\n",
            " [    0     0     0     0     0     0     0     0     0     0     0     0\n",
            "      0     0     0     0     0     0     0     0     0     0     0     0\n",
            "      0     0     0     0     0     0]\n",
            " [    0     0     0     0     0     0     0     0     0     0     0     0\n",
            "      0     0     0     0     0     0     0     0     0     0     0     0\n",
            "      0     0     0     1     0     0]\n",
            " [    0     0     0     0     0     0     0     0     0     0     0     0\n",
            "      0     0     0     0     0     0     0     0     0     0     0     0\n",
            "      0     0     0     0     1     0]\n",
            " [   43     0     0     0     0     0     0     0     0     0     0     0\n",
            "      0     0     0     0     0     0     0     0     0     0     0     0\n",
            "      0     0     0     0     0     4]]\n"
          ]
        }
      ]
    },
    {
      "cell_type": "code",
      "source": [
        "from sklearn.neural_network import MLPClassifier\n",
        "mlpclf = MLPClassifier(hidden_layer_sizes=(256,64,16),\n",
        "                       activation = 'relu',\n",
        "                       solver = 'adam')\n",
        "mlpclf.fit(xtrain_tfidf, y_train)\n",
        "predictions = mlpclf.predict(xtest_tfidf)\n",
        "print(metrics.classification_report(y_test, predictions))"
      ],
      "metadata": {
        "colab": {
          "base_uri": "https://localhost:8080/"
        },
        "id": "RcNwtUD0FaGi",
        "outputId": "8ac3bcc7-573b-46fe-8317-bf6ecbb5f466"
      },
      "execution_count": 27,
      "outputs": [
        {
          "output_type": "stream",
          "name": "stdout",
          "text": [
            "                                                                                                                                                                              precision    recall  f1-score   support\n",
            "\n",
            "                                                                                                                                                                                   0.99      1.00      1.00     10575\n",
            "                                                                                                                                                                       2010        1.00      1.00      1.00         1\n",
            "                                                                                                                                                                      2015.        0.00      0.00      0.00         1\n",
            "                                                                                                                                                                       2016        0.50      0.22      0.31         9\n",
            "                                                                                                                                                                   2016 6 0        0.00      0.00      0.00         1\n",
            "                                                                                                                                                              2016 Comments        0.00      0.00      0.00         1\n",
            "                                                                                                                                                         2016 Previous post        0.00      0.00      0.00         1\n",
            "                                                                                                                                                            2016 Share This        1.00      1.00      1.00         1\n",
            "                                                                                                                                                             2016 Subscribe        0.00      0.00      0.00         1\n",
            "                                                                                                                                 2016 by Robert Rich in Politics Share This        0.00      0.00      0.00         1\n",
            "                                                                                                                                                   2016. (Photo by Reuters)        0.00      0.00      0.00         1\n",
            "                                      and bringing up the rear with the correct answer of global warming as the greatest threat were a grand total of 4.6% of those polled.        1.00      1.00      1.00         1\n",
            "                                  and rigged a missile-defense test so that an interceptor could easily home in on a target. War is first and foremost a profitable racket.        1.00      1.00      1.00         1\n",
            "                                                                                                                             and that this comeback will benefit the ruble.        1.00      1.00      1.00         1\n",
            "                                                                                                       and the Little Mermaid were all products of Katzenberg’s leadership.        0.00      0.00      0.00         0\n",
            "                                                                                                       and the loss of farmland just adds to food insecurity in the nation.        0.50      1.00      0.67         1\n",
            "                                                                                                                                       and the sacred honor of our country.        1.00      1.00      1.00         1\n",
            "                                                                                                                                             are backing her — and the TPP.        1.00      1.00      1.00         1\n",
            "                                                                                                                                     as is the MPAA’s political foundation.        1.00      1.00      1.00         1\n",
            " continue to advocate to governments around the world about the pressing need for strong pro-IP trade policies such as TPP and the proposed EU/US trade agreement (TTIP). ”        1.00      1.00      1.00         1\n",
            "                                                                                                                                                                       etc.        0.00      0.00      0.00         1\n",
            "                                                                                                                     even though I ended up by some crazy thing to be one.”        0.50      1.00      0.67         1\n",
            "                                                                                                                        hoping to wait it out until the protestors give up.        1.00      1.00      1.00         1\n",
            "                           not entirely unlike what you might fantasize media news reports would be in a magical world in which media outlets gave a damn about human life.        1.00      1.00      1.00         1\n",
            "                                                                                                                                                    or the American people.        1.00      1.00      1.00         1\n",
            "                                                                                                                                              particularly to Saudi Arabia.        1.00      1.00      1.00         1\n",
            "                                                                                                                                                       serves on the board.        0.00      0.00      0.00         0\n",
            "                                                                        to compile reports that advance policies inimical to the real-life concerns of the American people.        0.50      1.00      0.67         1\n",
            "                                                                                                                                                                           0       0.00      0.00      0.00         0\n",
            "                                                                                                                       000 his or her subsidy would be significantly lower.        0.50      1.00      0.67         1\n",
            "                                                                                                                                                                           1       0.28      0.11      0.15        47\n",
            "\n",
            "                                                                                                                                                                    accuracy                           0.99     10656\n",
            "                                                                                                                                                                   macro avg       0.54      0.59      0.55     10656\n",
            "                                                                                                                                                                weighted avg       0.99      0.99      0.99     10656\n",
            "\n"
          ]
        },
        {
          "output_type": "stream",
          "name": "stderr",
          "text": [
            "/usr/local/lib/python3.11/dist-packages/sklearn/metrics/_classification.py:1565: UndefinedMetricWarning: Precision is ill-defined and being set to 0.0 in labels with no predicted samples. Use `zero_division` parameter to control this behavior.\n",
            "  _warn_prf(average, modifier, f\"{metric.capitalize()} is\", len(result))\n",
            "/usr/local/lib/python3.11/dist-packages/sklearn/metrics/_classification.py:1565: UndefinedMetricWarning: Recall is ill-defined and being set to 0.0 in labels with no true samples. Use `zero_division` parameter to control this behavior.\n",
            "  _warn_prf(average, modifier, f\"{metric.capitalize()} is\", len(result))\n",
            "/usr/local/lib/python3.11/dist-packages/sklearn/metrics/_classification.py:1565: UndefinedMetricWarning: Precision is ill-defined and being set to 0.0 in labels with no predicted samples. Use `zero_division` parameter to control this behavior.\n",
            "  _warn_prf(average, modifier, f\"{metric.capitalize()} is\", len(result))\n",
            "/usr/local/lib/python3.11/dist-packages/sklearn/metrics/_classification.py:1565: UndefinedMetricWarning: Recall is ill-defined and being set to 0.0 in labels with no true samples. Use `zero_division` parameter to control this behavior.\n",
            "  _warn_prf(average, modifier, f\"{metric.capitalize()} is\", len(result))\n",
            "/usr/local/lib/python3.11/dist-packages/sklearn/metrics/_classification.py:1565: UndefinedMetricWarning: Precision is ill-defined and being set to 0.0 in labels with no predicted samples. Use `zero_division` parameter to control this behavior.\n",
            "  _warn_prf(average, modifier, f\"{metric.capitalize()} is\", len(result))\n",
            "/usr/local/lib/python3.11/dist-packages/sklearn/metrics/_classification.py:1565: UndefinedMetricWarning: Recall is ill-defined and being set to 0.0 in labels with no true samples. Use `zero_division` parameter to control this behavior.\n",
            "  _warn_prf(average, modifier, f\"{metric.capitalize()} is\", len(result))\n"
          ]
        }
      ]
    },
    {
      "cell_type": "code",
      "source": [
        "print(metrics.confusion_matrix(y_test,predictions))"
      ],
      "metadata": {
        "colab": {
          "base_uri": "https://localhost:8080/"
        },
        "id": "ddXd9jroH3Cq",
        "outputId": "323e18f6-c94a-4914-c8ad-2220cb4d94dd"
      },
      "execution_count": 26,
      "outputs": [
        {
          "output_type": "stream",
          "name": "stdout",
          "text": [
            "[[10556     0     0     2     0     0     0     0     0     0     0     0\n",
            "      0     0     0     0     0     0     0     0     0     0     0     0\n",
            "      1     0     0    16]\n",
            " [    0     1     0     0     0     0     0     0     0     0     0     0\n",
            "      0     0     0     0     0     0     0     0     0     0     0     0\n",
            "      0     0     0     0]\n",
            " [    1     0     0     0     0     0     0     0     0     0     0     0\n",
            "      0     0     0     0     0     0     0     0     0     0     0     0\n",
            "      0     0     0     0]\n",
            " [    5     0     0     4     0     0     0     0     0     0     0     0\n",
            "      0     0     0     0     0     0     0     0     0     0     0     0\n",
            "      0     0     0     0]\n",
            " [    1     0     0     0     0     0     0     0     0     0     0     0\n",
            "      0     0     0     0     0     0     0     0     0     0     0     0\n",
            "      0     0     0     0]\n",
            " [    1     0     0     0     0     0     0     0     0     0     0     0\n",
            "      0     0     0     0     0     0     0     0     0     0     0     0\n",
            "      0     0     0     0]\n",
            " [    1     0     0     0     0     0     0     0     0     0     0     0\n",
            "      0     0     0     0     0     0     0     0     0     0     0     0\n",
            "      0     0     0     0]\n",
            " [    1     0     0     0     0     0     0     0     0     0     0     0\n",
            "      0     0     0     0     0     0     0     0     0     0     0     0\n",
            "      0     0     0     0]\n",
            " [    1     0     0     0     0     0     0     0     0     0     0     0\n",
            "      0     0     0     0     0     0     0     0     0     0     0     0\n",
            "      0     0     0     0]\n",
            " [    1     0     0     0     0     0     0     0     0     0     0     0\n",
            "      0     0     0     0     0     0     0     0     0     0     0     0\n",
            "      0     0     0     0]\n",
            " [    1     0     0     0     0     0     0     0     0     0     0     0\n",
            "      0     0     0     0     0     0     0     0     0     0     0     0\n",
            "      0     0     0     0]\n",
            " [    0     0     0     0     0     0     0     0     0     0     0     1\n",
            "      0     0     0     0     0     0     0     0     0     0     0     0\n",
            "      0     0     0     0]\n",
            " [    0     0     0     0     0     0     0     0     0     0     0     0\n",
            "      1     0     0     0     0     0     0     0     0     0     0     0\n",
            "      0     0     0     0]\n",
            " [    0     0     0     0     0     0     0     0     0     0     0     0\n",
            "      0     1     0     0     0     0     0     0     0     0     0     0\n",
            "      0     0     0     0]\n",
            " [    0     0     0     0     0     0     0     0     0     0     0     0\n",
            "      0     0     1     0     0     0     0     0     0     0     0     0\n",
            "      0     0     0     0]\n",
            " [    0     0     0     0     0     0     0     0     0     0     0     0\n",
            "      0     0     0     1     0     0     0     0     0     0     0     0\n",
            "      0     0     0     0]\n",
            " [    0     0     0     0     0     0     0     0     0     0     0     0\n",
            "      0     0     0     0     1     0     0     0     0     0     0     0\n",
            "      0     0     0     0]\n",
            " [    0     0     0     0     0     0     0     0     0     0     0     0\n",
            "      0     0     0     0     0     1     0     0     0     0     0     0\n",
            "      0     0     0     0]\n",
            " [    0     0     0     0     0     0     0     0     0     0     0     0\n",
            "      0     0     0     0     0     0     1     0     0     0     0     0\n",
            "      0     0     0     0]\n",
            " [    1     0     0     0     0     0     0     0     0     0     0     0\n",
            "      0     0     0     0     0     0     0     0     0     0     0     0\n",
            "      0     0     0     0]\n",
            " [    0     0     0     0     0     0     0     0     0     0     0     0\n",
            "      0     0     0     0     0     0     0     0     1     0     0     0\n",
            "      0     0     0     0]\n",
            " [    0     0     0     0     0     0     0     0     0     0     0     0\n",
            "      0     0     0     0     0     0     0     0     0     1     0     0\n",
            "      0     0     0     0]\n",
            " [    0     0     0     0     0     0     0     0     0     0     0     0\n",
            "      0     0     0     0     0     0     0     0     0     0     1     0\n",
            "      0     0     0     0]\n",
            " [    0     0     0     0     0     0     0     0     0     0     0     0\n",
            "      0     0     0     0     0     0     0     0     0     0     0     1\n",
            "      0     0     0     0]\n",
            " [    0     0     0     0     0     0     0     0     0     0     0     0\n",
            "      0     0     0     0     0     0     0     0     0     0     0     0\n",
            "      1     0     0     0]\n",
            " [    0     0     0     0     0     0     0     0     0     0     0     0\n",
            "      0     0     0     0     0     0     0     0     0     0     0     0\n",
            "      0     1     0     0]\n",
            " [    0     0     0     0     0     0     0     0     0     0     0     0\n",
            "      0     0     0     0     0     0     0     0     0     0     0     0\n",
            "      0     0     1     0]\n",
            " [   42     0     0     0     0     0     0     0     0     0     0     0\n",
            "      0     0     0     0     0     0     0     0     0     0     0     0\n",
            "      0     0     0     5]]\n"
          ]
        }
      ]
    },
    {
      "cell_type": "code",
      "source": [
        "import pickle\n",
        "pickle.dump(mlpclf, open(\"fakenews1.pkl\", \"wb\"))"
      ],
      "metadata": {
        "id": "8eHOptimIdsf"
      },
      "execution_count": 28,
      "outputs": []
    },
    {
      "cell_type": "code",
      "source": [],
      "metadata": {
        "id": "BJw68ZMGJGbr"
      },
      "execution_count": null,
      "outputs": []
    }
  ]
}