{
  "nbformat": 4,
  "nbformat_minor": 0,
  "metadata": {
    "colab": {
      "provenance": [],
      "gpuType": "T4",
      "authorship_tag": "ABX9TyMnMjx93h+eH/XicU7PCPAh",
      "include_colab_link": true
    },
    "kernelspec": {
      "name": "python3",
      "display_name": "Python 3"
    },
    "language_info": {
      "name": "python"
    },
    "accelerator": "GPU"
  },
  "cells": [
    {
      "cell_type": "markdown",
      "metadata": {
        "id": "view-in-github",
        "colab_type": "text"
      },
      "source": [
        "<a href=\"https://colab.research.google.com/github/sheshma0908/LMS-/blob/main/15_03_2025.ipynb\" target=\"_parent\"><img src=\"https://colab.research.google.com/assets/colab-badge.svg\" alt=\"Open In Colab\"/></a>"
      ]
    },
    {
      "cell_type": "code",
      "execution_count": 1,
      "metadata": {
        "id": "MGevxQMCN5Y0"
      },
      "outputs": [],
      "source": [
        "import google.generativeai as genai\n",
        "from google.colab import userdata\n",
        "GOOGLE_API_KEY=userdata.get(\"GOOGLE_API_KEY\")\n",
        "genai.configure(api_key=GOOGLE_API_KEY)"
      ]
    },
    {
      "cell_type": "code",
      "source": [
        "pip install PyPDF2"
      ],
      "metadata": {
        "colab": {
          "base_uri": "https://localhost:8080/"
        },
        "id": "kSk_3trnOSrO",
        "outputId": "8a32e5c4-0e2c-4162-d231-73cb695a6343"
      },
      "execution_count": 2,
      "outputs": [
        {
          "output_type": "stream",
          "name": "stdout",
          "text": [
            "Collecting PyPDF2\n",
            "  Downloading pypdf2-3.0.1-py3-none-any.whl.metadata (6.8 kB)\n",
            "Downloading pypdf2-3.0.1-py3-none-any.whl (232 kB)\n",
            "\u001b[?25l   \u001b[90m━━━━━━━━━━━━━━━━━━━━━━━━━━━━━━━━━━━━━━━━\u001b[0m \u001b[32m0.0/232.6 kB\u001b[0m \u001b[31m?\u001b[0m eta \u001b[36m-:--:--\u001b[0m\r\u001b[2K   \u001b[90m━━━━━━━━━━━━━━━━━━━━━━━━━━━━━━━━━━━━━━━━\u001b[0m \u001b[32m232.6/232.6 kB\u001b[0m \u001b[31m7.2 MB/s\u001b[0m eta \u001b[36m0:00:00\u001b[0m\n",
            "\u001b[?25hInstalling collected packages: PyPDF2\n",
            "Successfully installed PyPDF2-3.0.1\n"
          ]
        }
      ]
    },
    {
      "cell_type": "code",
      "source": [
        "import PyPDF2\n",
        "def extract_text_from_pdf(pdf_path):\n",
        "  text = \"\"\n",
        "  with open(pdf_path, \"rb\") as file:\n",
        "    reader = PyPDF2.PdfReader(file)\n",
        "    for page in reader.pages:\n",
        "      text += page.extract_text() + \"\\n\"\n",
        "  return text"
      ],
      "metadata": {
        "id": "A3lp7xzeOXj1"
      },
      "execution_count": 3,
      "outputs": []
    },
    {
      "cell_type": "code",
      "source": [
        "def extract_health_insights(text):\n",
        "  \"\"\"Asks Gemini AI to extract key medical insights from the report.\"\"\"\n",
        "  model=genai.GenerativeModel(\"gemini-1.5-flash\")\n",
        "  prompt=f\"Extract key insights from the following health report:\\n\\n{text}\"\n",
        "  response=model.generate_content(prompt)\n",
        "  return response.text\n",
        "pdf_file=\"/var/health_report.pdf\"\n",
        "extracted_text=extract_text_from_pdf(pdf_file)\n",
        "insights = extract_health_insights(extracted_text)\n",
        "print(\"Key Insights:\\n\", insights)"
      ],
      "metadata": {
        "colab": {
          "base_uri": "https://localhost:8080/",
          "height": 488
        },
        "id": "hTJ590rtPxFP",
        "outputId": "e914147b-727e-4294-d6c7-f79925efb31d"
      },
      "execution_count": 8,
      "outputs": [
        {
          "output_type": "stream",
          "name": "stdout",
          "text": [
            "Key Insights:\n",
            " Mr. Kishan Goud's (MR Number: MR2100003157) health report from February 1st, 2021, reveals the following key insights:\n",
            "\n",
            "**Infectious Disease Markers:**\n",
            "\n",
            "* **Widal Test:** Elevated titers for *Salmonella Typhi* \"O\" (1:160) and \"H\" (1:80) suggest a possible past or current *Salmonella Typhi* infection.  The reference range for both is 1:20, indicating a significant elevation.  *Salmonella Paratyphi* \"AH\" and \"BH\" titers are within the normal range (1:20).\n",
            "* **Dengue Serology:**  Negative results for Dengue NS1 antigen, IgG, and IgM antibodies rule out a current or recent dengue fever infection.\n",
            "* **Malaria:** Rapid malaria tests for *Plasmodium falciparum* and *Plasmodium vivax* are both negative.\n",
            "\n",
            "**Hematological Findings:**\n",
            "\n",
            "* **Complete Blood Picture (CBC):**  All values (Hemoglobin, RBC, WBC, Platelets, PCV, Differential Count) are within normal ranges, indicating no significant hematological abnormalities.\n",
            "* **Erythrocyte Sedimentation Rate (ESR):** Elevated ESR (26 mm/hr in the first hour and 52 mm/hr in the second hour), significantly exceeding the normal range (0-8 mm/hr), suggests inflammation or infection.  This needs further investigation to determine the cause.\n",
            "\n",
            "**Biochemical Findings:**\n",
            "\n",
            "* **Liver Function Tests (LFTs):** All liver function markers (bilirubin - total, direct, indirect, alkaline phosphatase, SGOT, SGPT, total protein, albumin, globulin, A/G ratio) are within normal limits.\n",
            "* **Serum Electrolytes:** Serum sodium (122 mmol/l) is slightly below the lower limit of the reference range (135-146 mmol/l), while potassium and chloride levels are within normal ranges.  The low sodium requires further assessment.\n",
            "* **Renal Function:** Serum creatinine (0.8 mg/dl) is within the normal range (0.6-1.25 mg/dl), indicating normal kidney function.\n",
            "* **Glucose:** Random blood glucose is not provided in the results but the HbA1c test result is 5.4%, which falls within the normal non-diabetic range (4-6%).\n",
            "\n",
            "\n",
            "**Overall:**\n",
            "\n",
            "While the elevated Widal test and ESR suggest a possible past or current infection (likely *Salmonella Typhi*) and inflammation, other tested parameters such as LFTs, renal function, and blood counts are generally normal. The slightly low sodium warrants further investigation.  The overall picture is inconclusive and requires further clinical evaluation by Dr. Krishna Prasad to correlate these findings with the patient's symptoms and medical history.\n",
            "\n"
          ]
        }
      ]
    },
    {
      "cell_type": "code",
      "source": [
        "def summarize_health_report(text):\n",
        "  \"\"\"Summarizes the health report using Gemini AI.\"\"\"\n",
        "  model=genai.GenerativeModel(\"gemini-1.5-flash\")\n",
        "  prompt=f\"Summarize the following health report in a concise manner:\\n\\n{text}\"\n",
        "  response=model.generate_content(prompt)\n",
        "  return response.text\n",
        "summary=summarize_health_report(extracted_text)\n",
        "print(\"Summary:\\n\", summary)"
      ],
      "metadata": {
        "colab": {
          "base_uri": "https://localhost:8080/",
          "height": 89
        },
        "id": "qxcMRJaYRsTY",
        "outputId": "7db07e58-c23c-459b-cda5-2ce5ad92ccf3"
      },
      "execution_count": 9,
      "outputs": [
        {
          "output_type": "stream",
          "name": "stdout",
          "text": [
            "Summary:\n",
            " Mr. Kishan Goud's (MRN: MR2100003157) blood tests on 01/02/2021 revealed:  Elevated ESR (26/52 mm/hr),  Widal test showing elevated titers for *S. Typhi* O (1:160) and H (1:80),  negative dengue serology (NS1, IgG, IgM), negative malaria test,  normal complete blood count (CBC) and HbA1c (5.4%), normal serum creatinine (0.8 mg/dl), and normal random blood glucose and liver function tests.  Serum sodium (122 mmol/l) and chloride (97 mmol/l) were slightly below the reference range.  All results were reviewed by Arif.\n",
            "\n"
          ]
        }
      ]
    },
    {
      "cell_type": "code",
      "source": [
        "def detect_abnormalities(text):\n",
        "  \"\"\"Analyzes lab text results and flags abnormal calues.\"\"\"\n",
        "  model = genai.GenerativeModel(\"gemini-1.5-flash\")\n",
        "  prompt=f\"Analyze the lab test results in the following health report and highlight any abnormal values:\\n\\n{text}\"\n",
        "  response=model.generate_content(prompt)\n",
        "  return response.text\n",
        "abnormalities=detect_abnormalities(extracted_text)\n",
        "print(\"Potential Abnormalities:\\n\", abnormalities)"
      ],
      "metadata": {
        "colab": {
          "base_uri": "https://localhost:8080/",
          "height": 280
        },
        "id": "19g8sKBKTgD7",
        "outputId": "fe3212d3-078b-491a-db04-206c1105b3e1"
      },
      "execution_count": 13,
      "outputs": [
        {
          "output_type": "stream",
          "name": "stdout",
          "text": [
            "Potential Abnormalities:\n",
            " Based on the provided lab results, the following values are outside the given reference ranges, indicating potential abnormalities:\n",
            "\n",
            "* **Widal Test:**  S. Typhi \"O\" (1:160) and S. Typhi \"H\" (1:80) are significantly higher than the reference range of 1:20. This suggests a possible past or present infection with *Salmonella Typhi*,  requiring further investigation and clinical correlation.\n",
            "\n",
            "* **Erythrocyte Sedimentation Rate (ESR):**  Both the 1st hour (26 mm/hr) and 2nd hour (52 mm/hr) ESR values are elevated above the normal range (0-8 mm/hr for the 1st hour). This indicates inflammation or infection somewhere in the body.\n",
            "\n",
            "* **Serum Sodium:** The serum sodium level (122 mmol/l) is below the reference range (135-146 mmol/l). This is called hyponatremia and can have various causes, from dehydration to kidney or liver problems.  This needs further investigation.\n",
            "\n",
            "* **Serum Chloride:** The serum chloride level (97 mmol/l) is slightly below the reference range (98-107 mmol/l). While only slightly low, it warrants consideration alongside the hyponatremia.\n",
            "\n",
            "\n",
            "**Important Note:**  These are just laboratory findings.  A proper diagnosis requires consideration of the patient's clinical presentation, medical history, and other diagnostic tests.  These abnormal results should be interpreted by a physician in context with the patient's overall health.  The elevated Widal test, in particular, requires confirmation and evaluation to determine whether it indicates active typhoid fever or just past exposure.\n",
            "\n"
          ]
        }
      ]
    },
    {
      "cell_type": "code",
      "source": [
        "def explain_medical_terms(text):\n",
        "  \"\"\"Asks Gemini AI to simplify medical terms for patient understanding.\"\"\"\n",
        "  model = genai.GenerativeModel(\"gemini-1.5-flash\")\n",
        "  prompt=f\"Explain the medical terms in the following health report in simple language:\\n\\n{text}\"\n",
        "  response=model.generate_content(prompt)\n",
        "  return response.text\n",
        "explanation=explain_medical_terms(extracted_text)\n",
        "print(\"Simplified Explanation:\\n\", explanation)"
      ],
      "metadata": {
        "colab": {
          "base_uri": "https://localhost:8080/",
          "height": 1000
        },
        "id": "ezmR6URKVLSA",
        "outputId": "ba5856e8-490c-4630-9207-ee521004d652"
      },
      "execution_count": 14,
      "outputs": [
        {
          "output_type": "stream",
          "name": "stdout",
          "text": [
            "Simplified Explanation:\n",
            " This report shows the results of several blood tests performed on Mr. Kishan Goud. Let's break down each section:\n",
            "\n",
            "\n",
            "**1. WIDAL TEST:** This test checks for antibodies against *Salmonella Typhi* and *Salmonella Paratyphi*, bacteria that cause typhoid fever and paratyphoid fever, respectively.  The numbers (e.g., 1:160) represent the dilution of the sample at which the antibodies were still detectable.  A higher number indicates a stronger immune response, suggesting possible past or present infection.\n",
            "\n",
            "* **S. Typhi \"O\" 1:160:**  A relatively high titre suggesting possible past exposure to Typhoid fever.\n",
            "* **S. Typhi \"H\" 1:80:** A moderately high titre suggesting possible past exposure to Typhoid fever.\n",
            "* **S. Paratyphi \"AH\" 1:20:**  Within the normal range, indicating no evidence of current or recent infection with this type of Paratyphoid fever.\n",
            "* **S. Paratyphi \"BH\" 1:20:** Within the normal range, indicating no evidence of current or recent infection with this type of Paratyphoid fever.  The \"O\" and \"H\" refer to different parts of the Salmonella bacteria.\n",
            "\n",
            "**2. DENGUE SEROLOGY:** This tests for dengue fever, a viral infection spread by mosquitoes.\n",
            "\n",
            "* **Dengue NS1 Antigen:** Negative – No evidence of an active dengue infection.\n",
            "* **Dengue IgG:** Negative – No evidence of past dengue infection.\n",
            "* **Dengue IgM:** Negative – No evidence of a recent dengue infection.\n",
            "\n",
            "**3. ERYTHROCYTE SEDIMENTATION RATE (ESR):** This measures how quickly red blood cells settle at the bottom of a test tube. A higher ESR often indicates inflammation or infection in the body.\n",
            "\n",
            "* **ESR 1st Hour 26 mm/hr:** Elevated; above the normal range (0-8 mm/hr). This suggests the presence of inflammation.\n",
            "* **ESR 2nd Hour 52 mm/hr:**  Further elevated, reinforcing the indication of inflammation.\n",
            "\n",
            "**4. RAPID MALARIA TEST:** This is a quick test to detect malaria parasites in the blood.\n",
            "\n",
            "* **P.V Negative:** Negative for *Plasmodium vivax* malaria.\n",
            "* **P.F Negative:** Negative for *Plasmodium falciparum* malaria.  (These are two common types of malaria.)\n",
            "\n",
            "**5. COMPLETE BLOOD PICTURE (CBC):** This is a comprehensive test that provides information about various components of the blood.\n",
            "\n",
            "* **Hemoglobin (Hb):** 13.6 gms% (within the normal range 13-17). This measures the oxygen-carrying capacity of the blood.\n",
            "* **Red Blood Cells (RBC):** 4.3 mill/cumm (slightly below the normal range 4.5-5.5).\n",
            "* **White Blood Cells (WBC):** 7,200 cells/cumm (within the normal range 4000-10000). These fight infection.\n",
            "* **Platelet Count:** 2.0 lakhs/cumm (within the normal range 1.5-4.5). These are important for blood clotting.\n",
            "* **Packed Cell Volume (PCV):** 40.5% (within the normal range 40-50). This is the percentage of red blood cells in the blood.\n",
            "* **Differential Count:** This breaks down the types of white blood cells. All values are within normal limits.\n",
            "* **Peripheral Blood Smear:**  A microscopic examination of the blood; all components are described as within normal limits.\n",
            "\n",
            "\n",
            "**6. HbA1c:** This test measures average blood glucose levels over the past 2-3 months. It's used to monitor diabetes.\n",
            "\n",
            "* **HbA1c 5.4%:** This is within the normal range for someone without diabetes.\n",
            "\n",
            "\n",
            "**7. SERUM CREATININE:** This test measures creatinine, a waste product from muscle breakdown, in the blood. It's an indicator of kidney function.\n",
            "\n",
            "* **Serum Creatinine 0.8 mg/dl:** Within the normal range (0.6-1.25 mg/dl), indicating normal kidney function.\n",
            "\n",
            "**8. RANDOM BLOOD GLUCOSE:** This measures blood glucose at a single point in time.\n",
            "\n",
            "* **Random Blood Glucose:** The result isn't explicitly stated in the provided text, only that the method used is GOD-POD.  The normal range is 60-170 mg/dl.\n",
            "\n",
            "**9. LIVER FUNCTION TEST (LFT):** This group of tests assesses the health of the liver.  All values are within normal ranges.\n",
            "\n",
            "* **Total Bilirubin, Direct Bilirubin, Indirect Bilirubin:** All within normal ranges. Bilirubin is a byproduct of red blood cell breakdown.\n",
            "* **Alkaline Phosphatase (ALP):** Within normal range.  An enzyme found in the liver and bones.\n",
            "* **Aspartate Aminotransferase (AST) (SGOT):** Within normal range. Liver enzymes.\n",
            "* **Alanine Aminotransferase (ALT) (SGPT):** Within normal range. Liver enzymes.\n",
            "* **Total Protein:** Within normal range. A measure of overall protein in the blood.\n",
            "* **Albumin:** Within normal range. A specific type of protein produced by the liver.\n",
            "* **Globulin:** A type of protein in the blood; the specific value is given but the range is not present.\n",
            "* **A/G Ratio:** Albumin to globulin ratio, within normal limits.\n",
            "\n",
            "**10. SERUM ELECTROLYTES:** This measures the levels of electrolytes (minerals) in the blood.\n",
            "\n",
            "* **Sodium:** Slightly below the lower limit of normal (122 mmol/l vs 135-146 mmol/l) -  This might indicate mild hyponatremia (low sodium), but needs to be evaluated in the context of the patient's overall clinical picture and other test results.  Further investigation may be warranted.\n",
            "* **Potassium:** Within the normal range (3.5 mmol/l).\n",
            "* **Chloride:** Slightly below the lower limit of normal (97 mmol/l vs 98-107 mmol/l). Similar to the sodium result, this warrants further investigation in the context of the patient's clinical presentation.\n",
            "\n",
            "\n",
            "**Important Note:** This explanation is for informational purposes only and does not constitute medical advice.  Mr. Kishan Goud should discuss these results with his doctor, Dr. Krishna Prasad, for proper interpretation and guidance on any necessary follow-up. The slightly low sodium and chloride levels warrant further investigation.  The elevated ESR also requires further investigation to determine the underlying cause of the inflammation.\n",
            "\n"
          ]
        }
      ]
    },
    {
      "cell_type": "code",
      "source": [
        "def ask_gemini_about_report(text, question):\n",
        "  \"\"\"Allows users to ask questions about their health report.\"\"\"\n",
        "  model = genai.GenerativeModel(\"gemini-1.5-flash\")\n",
        "  prompt=f\"The following is a halth report:\\n\\n{text}\\n\\nAnswer the following\"\n",
        "  response=model.generate_content(prompt)\n",
        "  return response.text\n",
        "question=\"What is the patient's diagnosis?\"\n",
        "answer=ask_gemini_about_report(extracted_text,question)\n",
        "print(\"Answer:\\n\", answer)"
      ],
      "metadata": {
        "colab": {
          "base_uri": "https://localhost:8080/",
          "height": 69
        },
        "id": "IsEQF7GdWUpf",
        "outputId": "61f00492-3240-4bbd-fb81-cbfd0be94252"
      },
      "execution_count": 15,
      "outputs": [
        {
          "output_type": "stream",
          "name": "stdout",
          "text": [
            "Answer:\n",
            " Please provide the questions you would like answered based on the provided health report.  I need the questions to give you the answers.\n",
            "\n"
          ]
        }
      ]
    },
    {
      "cell_type": "code",
      "source": [],
      "metadata": {
        "id": "ZTAL5VI8Xxkj"
      },
      "execution_count": null,
      "outputs": []
    }
  ]
}