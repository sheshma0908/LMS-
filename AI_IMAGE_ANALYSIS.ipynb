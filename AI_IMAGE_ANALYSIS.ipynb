{
  "nbformat": 4,
  "nbformat_minor": 0,
  "metadata": {
    "colab": {
      "provenance": [],
      "gpuType": "T4",
      "authorship_tag": "ABX9TyOW8eZmYGPbWwlEaIjOYVOQ",
      "include_colab_link": true
    },
    "kernelspec": {
      "name": "python3",
      "display_name": "Python 3"
    },
    "language_info": {
      "name": "python"
    },
    "accelerator": "GPU"
  },
  "cells": [
    {
      "cell_type": "markdown",
      "metadata": {
        "id": "view-in-github",
        "colab_type": "text"
      },
      "source": [
        "<a href=\"https://colab.research.google.com/github/sheshma0908/LMS-/blob/main/AI_IMAGE_ANALYSIS.ipynb\" target=\"_parent\"><img src=\"https://colab.research.google.com/assets/colab-badge.svg\" alt=\"Open In Colab\"/></a>"
      ]
    },
    {
      "cell_type": "code",
      "execution_count": 1,
      "metadata": {
        "id": "Y-imw4zIWSs4"
      },
      "outputs": [],
      "source": [
        "import google.generativeai as genai\n",
        "from google.colab import userdata\n",
        "GOOGLE_API_KEY=userdata.get('GOOGLE_API_KEY')\n",
        "genai.configure(api_key=GOOGLE_API_KEY)"
      ]
    },
    {
      "cell_type": "code",
      "source": [
        "import pathlib\n",
        "import textwrap\n",
        "from IPython.display import display, Markdown\n",
        "def to_markdown(text):\n",
        "  text = text.replace('.',' *')\n",
        "  return Markdown(textwrap.indent(text, '>',predicate=lambda _: True))"
      ],
      "metadata": {
        "id": "l5QoSRUBX2Lf"
      },
      "execution_count": 2,
      "outputs": []
    },
    {
      "cell_type": "code",
      "source": [
        "import PIL.Image\n",
        "img = PIL.Image.open('/var/image1.jpg')\n",
        "img\n",
        "model = genai.GenerativeModel('gemini-1.5-flash')\n",
        "response =model.generate_content([\"Write a short, engaging blog post basedon this picture.It should include a description of themeal in the photo and talk about my journey meal prepping.\", img],\n",
        "stream=True)\n",
        "response.resolve()"
      ],
      "metadata": {
        "id": "8RW1VrtMZYgH"
      },
      "execution_count": 3,
      "outputs": []
    },
    {
      "cell_type": "code",
      "source": [
        "to_markdown(response.text)"
      ],
      "metadata": {
        "colab": {
          "base_uri": "https://localhost:8080/",
          "height": 553
        },
        "id": "6rlujW_vbVaQ",
        "outputId": "4052f5cc-4355-4554-a0de-80fbdfcded96"
      },
      "execution_count": 4,
      "outputs": [
        {
          "output_type": "execute_result",
          "data": {
            "text/plain": [
              "<IPython.core.display.Markdown object>"
            ],
            "text/markdown": ">## My Meal Prep Journey: From Chaos to Chicken & Broccoli Bliss!\n>\n>Let's be honest, meal prepping wasn't always my forte *  I used to be a queen of last-minute takeout decisions, fueled by hunger and a lack of planning *  My fridge looked more like a science experiment than a well-stocked pantry *  But then, something clicked *\n>\n>I realized that eating healthy, delicious meals didn't have to be a time-consuming chore *  It could actually be… *enjoyable*!  That's where my meal prep journey began *\n>\n>This week's masterpiece? (See the picture above!)  These are two glass containers filled with deliciousness:  perfectly cooked chicken stir-fry over fluffy white rice *  Each serving boasts a colorful mix of vibrant red and orange bell peppers, fresh broccoli florets, and tender, savory chicken all perfectly seasoned *  It's a balanced, nutritious meal, ready in minutes *  \n>\n>The transition hasn't been without its hurdles *  There were nights of over-ambitious planning (hello, five-day prep marathon!), followed by less-than-stellar results *  Some experiments were definitely more successful than others * But I’ve learned a few invaluable lessons along the way:\n>\n>* **Start small:** Don't try to prep a week's worth of meals at once *  Begin with one or two, and gradually increase as you gain confidence *\n>* **Plan your meals:**  Pick recipes you actually enjoy!  This is crucial for long-term success *\n>* **Embrace leftovers:** This is your meal prep superpower!  One day’s dinner can easily become the next day's lunch *\n>\n>The result? Less stress, more energy, and tastier meals than I ever thought possible *  It's a win-win-win!  So, are you ready to join me on this delicious journey?  Share your own meal prep tips in the comments below!\n"
          },
          "metadata": {},
          "execution_count": 4
        }
      ]
    },
    {
      "cell_type": "code",
      "source": [
        "response = model.generate_content([\"Generate an accurate caption for this image.\", img])\n",
        "print(response.text)"
      ],
      "metadata": {
        "colab": {
          "base_uri": "https://localhost:8080/",
          "height": 106
        },
        "id": "nHc-zYDRcDud",
        "outputId": "e872e331-1176-4cfd-b4dd-57bc82a26d76"
      },
      "execution_count": 5,
      "outputs": [
        {
          "output_type": "stream",
          "name": "stdout",
          "text": [
            "Here's a caption for the image:\n",
            "\n",
            "Two glass meal prep containers filled with a delicious and healthy meal.  Each container features a base of fluffy white rice topped with savory chicken, vibrant carrots, broccoli florets, and a flavorful sauce.  Perfect for a quick and nutritious lunch or dinner.\n",
            "\n"
          ]
        }
      ]
    },
    {
      "cell_type": "code",
      "source": [
        "from PIL import Image\n",
        "image_path = '/var/image 2.jpg'\n",
        "image = Image.open(image_path)\n",
        "response = model.generate_content([\"Describe this image in detail.\", image])\n",
        "print(response.text)"
      ],
      "metadata": {
        "colab": {
          "base_uri": "https://localhost:8080/",
          "height": 367
        },
        "id": "hV3vuA4VeDVI",
        "outputId": "65c6bf8b-f66a-4f6c-e88f-a42feb073103"
      },
      "execution_count": 6,
      "outputs": [
        {
          "output_type": "stream",
          "name": "stdout",
          "text": [
            "Here's a description of the image:\n",
            "\n",
            "Eye-level view of a long, tree-lined path. \n",
            "\n",
            "\n",
            "Here's a breakdown of the scene:\n",
            "\n",
            "* **Trees:** The path is flanked on both sides by rows of tall, slender trees. The trees closer to the viewer are primarily a deep, dark reddish-orange, indicative of autumn foliage. Further down the path, the trees transition to a more greenish hue, suggesting a change in the progression of the season or potentially a different species of tree. The trees have dark, textured trunks.\n",
            "\n",
            "* **Path:** The path itself is a dirt or gravel road, light brown in color, appearing relatively flat and well-maintained. It extends from the foreground into the distance, vanishing point where the trees come together.\n",
            "\n",
            "* **Background:** In the far background, there is a faint suggestion of a low-lying area or open field.  A hazy atmosphere or fog adds a slightly muted, dreamy quality to the background, obscuring details.  The sky is barely visible and seems pale and overcast.\n",
            "\n",
            "* **Person:** A small figure of a person, likely a photographer given the apparent camera equipment visible in their hand, is visible in the mid-ground, on the path walking away from the viewer.  They appear very small relative to the scale of the trees, highlighting the length of the path.\n",
            "\n",
            "* **Lighting:** The lighting seems soft and diffused, consistent with an overcast day. There are no harsh shadows.\n",
            "\n",
            "The overall impression is one of serene beauty and autumnal tranquility. The color contrast between the reddish-orange and green trees is striking. The long perspective created by the trees and the path creates a feeling of depth and distance.\n",
            "\n"
          ]
        }
      ]
    },
    {
      "cell_type": "code",
      "source": [
        "response = model.generate_content([\"What emotions can you detect in this image?\", image])\n",
        "print(response.text)"
      ],
      "metadata": {
        "colab": {
          "base_uri": "https://localhost:8080/",
          "height": 263
        },
        "id": "BXewD-V-h1RI",
        "outputId": "ef27ca07-b361-4c68-ffde-1d87d9a8d7f9"
      },
      "execution_count": 7,
      "outputs": [
        {
          "output_type": "stream",
          "name": "stdout",
          "text": [
            "Here are some emotions the image evokes:\n",
            "\n",
            "* **Serenity/Peacefulness:** The symmetrical arrangement of trees, the soft light, and the misty atmosphere create a feeling of calm and tranquility.  The path seems inviting and suggests a journey of peaceful reflection.\n",
            "\n",
            "* **Awe/Wonder:** The vibrant colors of the autumn foliage and the sheer beauty of the natural scene inspire a sense of awe and wonder at the beauty of nature.\n",
            "\n",
            "* **Solitude/Loneliness:** The single figure in the distance emphasizes the vastness of the scene and can evoke feelings of solitude or a quiet contemplation, depending on the viewer's perspective.  It's not necessarily a *negative* loneliness, but rather a peaceful isolation.\n",
            "\n",
            "* **Melancholy/Nostalgia:** The autumnal setting and the muted colors can also trigger feelings of melancholy or nostalgia, reflecting on the passing of time and the beauty of impermanence.  This is a subtle emotion, but present in the overall tone.\n",
            "\n",
            "\n",
            "The overall emotional impact is predominantly positive, leaning toward serenity and awe, with hints of gentler, reflective emotions.  The image's beauty and composition combine to create a mood that is both calming and inspiring.\n",
            "\n"
          ]
        }
      ]
    },
    {
      "cell_type": "code",
      "source": [
        "from PIL import Image\n",
        "image_path = '/var/dark.jpg'\n",
        "image = Image.open(image_path)\n",
        "response = model.generate_content([\"Describe this image in detail.\", image])\n",
        "print(response.text)"
      ],
      "metadata": {
        "colab": {
          "base_uri": "https://localhost:8080/",
          "height": 297
        },
        "id": "Ynp6BdsBgovc",
        "outputId": "f6ba44c8-3a5c-4144-8e02-0767289af1e2"
      },
      "execution_count": 8,
      "outputs": [
        {
          "output_type": "stream",
          "name": "stdout",
          "text": [
            "Here's a description of the image:\n",
            "\n",
            "The photograph is a black and white shot of a single, illuminated streetlight at night. \n",
            "\n",
            "\n",
            "Here's a breakdown of the scene:\n",
            "\n",
            "* **The Light:** A tall, slender streetlight stands prominently, its light casting a bright, somewhat diffused glow downward onto the pavement and slightly illuminating the surrounding landscape. The light source itself is a small, bright point at the top of the pole.\n",
            "\n",
            "* **The Surroundings:** The streetlight is situated on a curved section of roadway bordered by a sidewalk. Low shrubbery and the dark silhouettes of trees are visible to the right of the light. The rest of the scene is shrouded in deep darkness, creating a stark contrast between the light and shadow. The darkness is almost absolute, except for the area directly illuminated by the lamp.\n",
            "\n",
            "* **The Roadway:** The asphalt road is dark, but the light reflects on its surface, indicating a smooth texture. The curve of the road leads into the darkness.\n",
            "\n",
            "* **Overall Mood:** The image conveys a feeling of solitude, quietude, and even a hint of mystery or loneliness. The strong contrast between light and dark emphasizes the isolated position of the streetlight, creating a dramatic and somewhat melancholic atmosphere. The black and white palette enhances this effect.\n",
            "\n"
          ]
        }
      ]
    },
    {
      "cell_type": "code",
      "source": [
        "response = model.generate_content([\"What emotions can you detect in this image?\", image])\n",
        "print(response.text)"
      ],
      "metadata": {
        "colab": {
          "base_uri": "https://localhost:8080/",
          "height": 72
        },
        "id": "aPIcaAc-huum",
        "outputId": "8f0ca5c4-3384-4b77-fca7-1fe7a0aa3ea3"
      },
      "execution_count": 9,
      "outputs": [
        {
          "output_type": "stream",
          "name": "stdout",
          "text": [
            "The black and white image evokes feelings of loneliness, isolation, and perhaps a touch of mystery or unease.  The single illuminated lamppost in the otherwise dark scene creates a strong sense of solitude. The darkness surrounding the light could be interpreted as symbolizing fear or uncertainty.\n",
            "\n"
          ]
        }
      ]
    },
    {
      "cell_type": "code",
      "source": [
        "from PIL import Image\n",
        "image_path = '/var/cute.png'\n",
        "image = Image.open(image_path)\n",
        "response = model.generate_content([\"Describe this image in detail.\", image])\n",
        "print(response.text)"
      ],
      "metadata": {
        "colab": {
          "base_uri": "https://localhost:8080/",
          "height": 280
        },
        "id": "dj2ybfcrhAuO",
        "outputId": "bac559cf-fde4-405e-8f67-09b360f4e5bb"
      },
      "execution_count": 10,
      "outputs": [
        {
          "output_type": "stream",
          "name": "stdout",
          "text": [
            "Here's a description of the image:\n",
            "\n",
            "The image features a minimalist, cartoon-style illustration set against a solid pale pink background. \n",
            "\n",
            "\n",
            "The central focus is on two adorable, stylized animal characters:\n",
            "\n",
            "* **Foreground:** A brown bear, depicted in a simple, almost chibi-like fashion, is shown wearing a light blue sailor-style dress. It has large, expressive eyes, rosy cheeks, and its tongue is playfully sticking out. The bear's arms are raised slightly as if it is carrying something.\n",
            "\n",
            "* **Background:** Atop the bear's back is a white panda-like character with small black ears. It's wearing a light pink outfit or dress and has a small, white rabbit-like accessory on its head. This character's expression is one of gentle happiness. Both characters have a soft, rounded aesthetic.\n",
            "\n",
            "\n",
            "The overall style is cute and childlike, common in Kawaii-inspired art. The lines are clean and simple, with minimal detailing. The color palette is muted and pastel-toned, enhancing the gentle mood. The image gives an impression of friendship and playfulness.\n",
            "\n"
          ]
        }
      ]
    },
    {
      "cell_type": "code",
      "source": [
        "response = model.generate_content([\"What emotions can you detect in this image?\", image])\n",
        "print(response.text)"
      ],
      "metadata": {
        "colab": {
          "base_uri": "https://localhost:8080/",
          "height": 72
        },
        "id": "JNz4Wjs3hT0L",
        "outputId": "90d905fb-2be6-4b83-bd66-14ec10adc62c"
      },
      "execution_count": 11,
      "outputs": [
        {
          "output_type": "stream",
          "name": "stdout",
          "text": [
            "The image evokes feelings of happiness, joy, and affection.  The playful pose of the characters, their cute designs, and the gentle color palette all contribute to a feeling of warmth and sweetness.  There's also a sense of friendship or companionship between the two animals.\n",
            "\n"
          ]
        }
      ]
    },
    {
      "cell_type": "code",
      "source": [],
      "metadata": {
        "id": "eSbDzC3XiltO"
      },
      "execution_count": null,
      "outputs": []
    }
  ]
}